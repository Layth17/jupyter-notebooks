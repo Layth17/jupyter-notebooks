{
 "cells": [
  {
   "cell_type": "markdown",
   "id": "9dea887f",
   "metadata": {},
   "source": [
    "# Importing data from Kaggle"
   ]
  },
  {
   "cell_type": "code",
   "execution_count": 5,
   "id": "ae1829a6",
   "metadata": {},
   "outputs": [
    {
     "name": "stdout",
     "output_type": "stream",
     "text": [
      "Downloading imdb-top-1000-movies.zip to C:\\Users\\Layth\\notebooks\n",
      "\n"
     ]
    },
    {
     "name": "stderr",
     "output_type": "stream",
     "text": [
      "\n",
      "  0%|          | 0.00/55.4k [00:00<?, ?B/s]\n",
      "100%|##########| 55.4k/55.4k [00:00<00:00, 1.83MB/s]\n"
     ]
    }
   ],
   "source": [
    "!kaggle datasets download -d arthurchongg/imdb-top-1000-movies"
   ]
  },
  {
   "cell_type": "code",
   "execution_count": 18,
   "id": "eb5a1ad7",
   "metadata": {},
   "outputs": [],
   "source": [
    "from zipfile import ZipFile"
   ]
  },
  {
   "cell_type": "code",
   "execution_count": 22,
   "id": "02012d52",
   "metadata": {},
   "outputs": [],
   "source": [
    "with ZipFile('./imdb-top-1000-movies.zip', 'r') as zObject:\n",
    "    zObject.extractall(path=\"./csv\")"
   ]
  },
  {
   "cell_type": "code",
   "execution_count": 26,
   "id": "f85efb92",
   "metadata": {},
   "outputs": [],
   "source": [
    "# !kaggle datasets list"
   ]
  },
  {
   "cell_type": "markdown",
   "id": "1deabc3b",
   "metadata": {},
   "source": [
    "# Viewing the data"
   ]
  },
  {
   "cell_type": "code",
   "execution_count": 51,
   "id": "6d27193e",
   "metadata": {},
   "outputs": [],
   "source": [
    "import polars as pl"
   ]
  },
  {
   "cell_type": "code",
   "execution_count": 169,
   "id": "217814f8",
   "metadata": {
    "scrolled": false
   },
   "outputs": [
    {
     "data": {
      "text/html": [
       "<div><style>\n",
       ".dataframe > thead > tr > th,\n",
       ".dataframe > tbody > tr > td {\n",
       "  text-align: right;\n",
       "}\n",
       "</style>\n",
       "<small>shape: (5, 6)</small><table border=\"1\" class=\"dataframe\"><thead><tr><th>title</th><th>release_year</th><th>runtime</th><th>genre</th><th>rating</th><th>gross(M)</th></tr><tr><td>str</td><td>i64</td><td>str</td><td>str</td><td>f64</td><td>f64</td></tr></thead><tbody><tr><td>&quot;The Shawshank …</td><td>1994</td><td>&quot;142 min&quot;</td><td>&quot;Drama&quot;</td><td>9.3</td><td>28.34</td></tr><tr><td>&quot;The Godfather&quot;</td><td>1972</td><td>&quot;175 min&quot;</td><td>&quot;Crime&quot;</td><td>9.2</td><td>134.97</td></tr><tr><td>&quot;The Godfather&quot;</td><td>1972</td><td>&quot;175 min&quot;</td><td>&quot;Drama&quot;</td><td>9.2</td><td>134.97</td></tr><tr><td>&quot;The Dark Knigh…</td><td>2008</td><td>&quot;152 min&quot;</td><td>&quot;Action&quot;</td><td>9.0</td><td>534.86</td></tr><tr><td>&quot;The Dark Knigh…</td><td>2008</td><td>&quot;152 min&quot;</td><td>&quot;Crime&quot;</td><td>9.0</td><td>534.86</td></tr></tbody></table></div>"
      ],
      "text/plain": [
       "shape: (5, 6)\n",
       "┌──────────────────────────┬──────────────┬─────────┬────────┬────────┬──────────┐\n",
       "│ title                    ┆ release_year ┆ runtime ┆ genre  ┆ rating ┆ gross(M) │\n",
       "│ ---                      ┆ ---          ┆ ---     ┆ ---    ┆ ---    ┆ ---      │\n",
       "│ str                      ┆ i64          ┆ str     ┆ str    ┆ f64    ┆ f64      │\n",
       "╞══════════════════════════╪══════════════╪═════════╪════════╪════════╪══════════╡\n",
       "│ The Shawshank Redemption ┆ 1994         ┆ 142 min ┆ Drama  ┆ 9.3    ┆ 28.34    │\n",
       "│ The Godfather            ┆ 1972         ┆ 175 min ┆ Crime  ┆ 9.2    ┆ 134.97   │\n",
       "│ The Godfather            ┆ 1972         ┆ 175 min ┆ Drama  ┆ 9.2    ┆ 134.97   │\n",
       "│ The Dark Knight          ┆ 2008         ┆ 152 min ┆ Action ┆ 9.0    ┆ 534.86   │\n",
       "│ The Dark Knight          ┆ 2008         ┆ 152 min ┆ Crime  ┆ 9.0    ┆ 534.86   │\n",
       "└──────────────────────────┴──────────────┴─────────┴────────┴────────┴──────────┘"
      ]
     },
     "execution_count": 169,
     "metadata": {},
     "output_type": "execute_result"
    }
   ],
   "source": [
    "pl.scan_csv(\"csv/imdb_clean.csv\").collect().head()"
   ]
  },
  {
   "cell_type": "code",
   "execution_count": 168,
   "id": "ff9567da",
   "metadata": {},
   "outputs": [
    {
     "data": {
      "text/html": [
       "<div><style>\n",
       ".dataframe > thead > tr > th,\n",
       ".dataframe > tbody > tr > td {\n",
       "  text-align: right;\n",
       "}\n",
       "</style>\n",
       "<small>shape: (5, 8)</small><table border=\"1\" class=\"dataframe\"><thead><tr><th></th><th>title</th><th>release_year</th><th>runtime</th><th>genre</th><th>rating</th><th>metascore</th><th>gross(M)</th></tr><tr><td>i64</td><td>str</td><td>i64</td><td>i64</td><td>str</td><td>f64</td><td>i64</td><td>f64</td></tr></thead><tbody><tr><td>0</td><td>&quot;The Shawshank …</td><td>1994</td><td>142</td><td>&quot;Drama&quot;</td><td>9.3</td><td>82</td><td>28.34</td></tr><tr><td>1</td><td>&quot;The Godfather&quot;</td><td>1972</td><td>175</td><td>&quot;Crime&quot;</td><td>9.2</td><td>100</td><td>134.97</td></tr><tr><td>1</td><td>&quot;The Godfather&quot;</td><td>1972</td><td>175</td><td>&quot;Drama&quot;</td><td>9.2</td><td>100</td><td>134.97</td></tr><tr><td>2</td><td>&quot;The Dark Knigh…</td><td>2008</td><td>152</td><td>&quot;Action&quot;</td><td>9.0</td><td>84</td><td>534.86</td></tr><tr><td>2</td><td>&quot;The Dark Knigh…</td><td>2008</td><td>152</td><td>&quot;Crime&quot;</td><td>9.0</td><td>84</td><td>534.86</td></tr></tbody></table></div>"
      ],
      "text/plain": [
       "shape: (5, 8)\n",
       "┌─────┬──────────────────────────┬──────────────┬─────────┬────────┬────────┬───────────┬──────────┐\n",
       "│     ┆ title                    ┆ release_year ┆ runtime ┆ genre  ┆ rating ┆ metascore ┆ gross(M) │\n",
       "│ --- ┆ ---                      ┆ ---          ┆ ---     ┆ ---    ┆ ---    ┆ ---       ┆ ---      │\n",
       "│ i64 ┆ str                      ┆ i64          ┆ i64     ┆ str    ┆ f64    ┆ i64       ┆ f64      │\n",
       "╞═════╪══════════════════════════╪══════════════╪═════════╪════════╪════════╪═══════════╪══════════╡\n",
       "│ 0   ┆ The Shawshank Redemption ┆ 1994         ┆ 142     ┆ Drama  ┆ 9.3    ┆ 82        ┆ 28.34    │\n",
       "│ 1   ┆ The Godfather            ┆ 1972         ┆ 175     ┆ Crime  ┆ 9.2    ┆ 100       ┆ 134.97   │\n",
       "│ 1   ┆ The Godfather            ┆ 1972         ┆ 175     ┆ Drama  ┆ 9.2    ┆ 100       ┆ 134.97   │\n",
       "│ 2   ┆ The Dark Knight          ┆ 2008         ┆ 152     ┆ Action ┆ 9.0    ┆ 84        ┆ 534.86   │\n",
       "│ 2   ┆ The Dark Knight          ┆ 2008         ┆ 152     ┆ Crime  ┆ 9.0    ┆ 84        ┆ 534.86   │\n",
       "└─────┴──────────────────────────┴──────────────┴─────────┴────────┴────────┴───────────┴──────────┘"
      ]
     },
     "execution_count": 168,
     "metadata": {},
     "output_type": "execute_result"
    }
   ],
   "source": [
    "pl.scan_csv(\"csv/imdb_clean2.csv\").collect().head()"
   ]
  },
  {
   "cell_type": "code",
   "execution_count": 161,
   "id": "f0c0d588",
   "metadata": {},
   "outputs": [
    {
     "data": {
      "text/html": [
       "<div><style>\n",
       ".dataframe > thead > tr > th,\n",
       ".dataframe > tbody > tr > td {\n",
       "  text-align: right;\n",
       "}\n",
       "</style>\n",
       "<small>shape: (9, 6)</small><table border=\"1\" class=\"dataframe\"><thead><tr><th>describe</th><th>title</th><th>year</th><th>runtime</th><th>rating</th><th>gross(M)</th></tr><tr><td>str</td><td>str</td><td>f64</td><td>f64</td><td>f64</td><td>f64</td></tr></thead><tbody><tr><td>&quot;count&quot;</td><td>&quot;994&quot;</td><td>994.0</td><td>994.0</td><td>994.0</td><td>994.0</td></tr><tr><td>&quot;null_count&quot;</td><td>&quot;0&quot;</td><td>0.0</td><td>0.0</td><td>0.0</td><td>0.0</td></tr><tr><td>&quot;mean&quot;</td><td>null</td><td>1991.655936</td><td>124.086519</td><td>7.969115</td><td>58.175372</td></tr><tr><td>&quot;std&quot;</td><td>null</td><td>24.018043</td><td>28.694743</td><td>0.276326</td><td>109.401613</td></tr><tr><td>&quot;min&quot;</td><td>&quot;12 Angry Men&quot;</td><td>1920.0</td><td>45.0</td><td>7.6</td><td>0.0</td></tr><tr><td>&quot;max&quot;</td><td>&quot;Zulu&quot;</td><td>2023.0</td><td>321.0</td><td>9.3</td><td>936.66</td></tr><tr><td>&quot;median&quot;</td><td>null</td><td>1999.0</td><td>120.0</td><td>7.9</td><td>9.53</td></tr><tr><td>&quot;25%&quot;</td><td>null</td><td>1975.0</td><td>103.0</td><td>7.8</td><td>0.26</td></tr><tr><td>&quot;75%&quot;</td><td>null</td><td>2011.0</td><td>138.0</td><td>8.1</td><td>61.5</td></tr></tbody></table></div>"
      ],
      "text/plain": [
       "shape: (9, 6)\n",
       "┌────────────┬──────────────┬─────────────┬────────────┬──────────┬────────────┐\n",
       "│ describe   ┆ title        ┆ year        ┆ runtime    ┆ rating   ┆ gross(M)   │\n",
       "│ ---        ┆ ---          ┆ ---         ┆ ---        ┆ ---      ┆ ---        │\n",
       "│ str        ┆ str          ┆ f64         ┆ f64        ┆ f64      ┆ f64        │\n",
       "╞════════════╪══════════════╪═════════════╪════════════╪══════════╪════════════╡\n",
       "│ count      ┆ 994          ┆ 994.0       ┆ 994.0      ┆ 994.0    ┆ 994.0      │\n",
       "│ null_count ┆ 0            ┆ 0.0         ┆ 0.0        ┆ 0.0      ┆ 0.0        │\n",
       "│ mean       ┆ null         ┆ 1991.655936 ┆ 124.086519 ┆ 7.969115 ┆ 58.175372  │\n",
       "│ std        ┆ null         ┆ 24.018043   ┆ 28.694743  ┆ 0.276326 ┆ 109.401613 │\n",
       "│ min        ┆ 12 Angry Men ┆ 1920.0      ┆ 45.0       ┆ 7.6      ┆ 0.0        │\n",
       "│ max        ┆ Zulu         ┆ 2023.0      ┆ 321.0      ┆ 9.3      ┆ 936.66     │\n",
       "│ median     ┆ null         ┆ 1999.0      ┆ 120.0      ┆ 7.9      ┆ 9.53       │\n",
       "│ 25%        ┆ null         ┆ 1975.0      ┆ 103.0      ┆ 7.8      ┆ 0.26       │\n",
       "│ 75%        ┆ null         ┆ 2011.0      ┆ 138.0      ┆ 8.1      ┆ 61.5       │\n",
       "└────────────┴──────────────┴─────────────┴────────────┴──────────┴────────────┘"
      ]
     },
     "execution_count": 161,
     "metadata": {},
     "output_type": "execute_result"
    }
   ],
   "source": [
    "df.describe()"
   ]
  },
  {
   "cell_type": "markdown",
   "id": "9b704680",
   "metadata": {},
   "source": [
    "# Messing with imdb_clean"
   ]
  },
  {
   "cell_type": "code",
   "execution_count": 170,
   "id": "e7511cbe",
   "metadata": {},
   "outputs": [],
   "source": [
    "df = pl.scan_csv(\"csv/imdb_clean.csv\").collect()"
   ]
  },
  {
   "cell_type": "markdown",
   "id": "36298af7",
   "metadata": {},
   "source": [
    "Exculding genre"
   ]
  },
  {
   "cell_type": "code",
   "execution_count": null,
   "id": "9f58733a",
   "metadata": {},
   "outputs": [],
   "source": [
    "# df[\"title\"]"
   ]
  },
  {
   "cell_type": "code",
   "execution_count": 171,
   "id": "f16bb7de",
   "metadata": {},
   "outputs": [],
   "source": [
    "df = df.drop(\"genre\")\n",
    "df = df.unique(subset=[\"title\"], maintain_order=True)"
   ]
  },
  {
   "cell_type": "code",
   "execution_count": 172,
   "id": "aa90d7d9",
   "metadata": {},
   "outputs": [
    {
     "data": {
      "text/html": [
       "<div><style>\n",
       ".dataframe > thead > tr > th,\n",
       ".dataframe > tbody > tr > td {\n",
       "  text-align: right;\n",
       "}\n",
       "</style>\n",
       "<small>shape: (5, 5)</small><table border=\"1\" class=\"dataframe\"><thead><tr><th>title</th><th>release_year</th><th>runtime</th><th>rating</th><th>gross(M)</th></tr><tr><td>str</td><td>i64</td><td>str</td><td>f64</td><td>f64</td></tr></thead><tbody><tr><td>&quot;The Shawshank …</td><td>1994</td><td>&quot;142 min&quot;</td><td>9.3</td><td>28.34</td></tr><tr><td>&quot;The Godfather&quot;</td><td>1972</td><td>&quot;175 min&quot;</td><td>9.2</td><td>134.97</td></tr><tr><td>&quot;The Dark Knigh…</td><td>2008</td><td>&quot;152 min&quot;</td><td>9.0</td><td>534.86</td></tr><tr><td>&quot;Schindler&#x27;s Li…</td><td>1993</td><td>&quot;195 min&quot;</td><td>9.0</td><td>96.9</td></tr><tr><td>&quot;12 Angry Men&quot;</td><td>1957</td><td>&quot;96 min&quot;</td><td>9.0</td><td>4.36</td></tr></tbody></table></div>"
      ],
      "text/plain": [
       "shape: (5, 5)\n",
       "┌──────────────────────────┬──────────────┬─────────┬────────┬──────────┐\n",
       "│ title                    ┆ release_year ┆ runtime ┆ rating ┆ gross(M) │\n",
       "│ ---                      ┆ ---          ┆ ---     ┆ ---    ┆ ---      │\n",
       "│ str                      ┆ i64          ┆ str     ┆ f64    ┆ f64      │\n",
       "╞══════════════════════════╪══════════════╪═════════╪════════╪══════════╡\n",
       "│ The Shawshank Redemption ┆ 1994         ┆ 142 min ┆ 9.3    ┆ 28.34    │\n",
       "│ The Godfather            ┆ 1972         ┆ 175 min ┆ 9.2    ┆ 134.97   │\n",
       "│ The Dark Knight          ┆ 2008         ┆ 152 min ┆ 9.0    ┆ 534.86   │\n",
       "│ Schindler's List         ┆ 1993         ┆ 195 min ┆ 9.0    ┆ 96.9     │\n",
       "│ 12 Angry Men             ┆ 1957         ┆ 96 min  ┆ 9.0    ┆ 4.36     │\n",
       "└──────────────────────────┴──────────────┴─────────┴────────┴──────────┘"
      ]
     },
     "execution_count": 172,
     "metadata": {},
     "output_type": "execute_result"
    }
   ],
   "source": [
    "df.head()"
   ]
  },
  {
   "cell_type": "code",
   "execution_count": 173,
   "id": "dd40261d",
   "metadata": {},
   "outputs": [],
   "source": [
    "df = df.with_columns(\n",
    "    pl.col(\"runtime\")\n",
    "    .apply(lambda s: int(s.split()[0]))\n",
    ")"
   ]
  },
  {
   "cell_type": "code",
   "execution_count": 174,
   "id": "c36f8ea2",
   "metadata": {},
   "outputs": [],
   "source": [
    "df =  df.rename({\"release_year\":\"year\"})"
   ]
  },
  {
   "cell_type": "code",
   "execution_count": 175,
   "id": "5923ca0a",
   "metadata": {},
   "outputs": [
    {
     "data": {
      "text/html": [
       "<div><style>\n",
       ".dataframe > thead > tr > th,\n",
       ".dataframe > tbody > tr > td {\n",
       "  text-align: right;\n",
       "}\n",
       "</style>\n",
       "<small>shape: (994, 5)</small><table border=\"1\" class=\"dataframe\"><thead><tr><th>title</th><th>year</th><th>runtime</th><th>rating</th><th>gross(M)</th></tr><tr><td>str</td><td>i64</td><td>i64</td><td>f64</td><td>f64</td></tr></thead><tbody><tr><td>&quot;The Shawshank …</td><td>1994</td><td>142</td><td>9.3</td><td>28.34</td></tr><tr><td>&quot;The Godfather&quot;</td><td>1972</td><td>175</td><td>9.2</td><td>134.97</td></tr><tr><td>&quot;The Dark Knigh…</td><td>2008</td><td>152</td><td>9.0</td><td>534.86</td></tr><tr><td>&quot;Schindler&#x27;s Li…</td><td>1993</td><td>195</td><td>9.0</td><td>96.9</td></tr><tr><td>&quot;12 Angry Men&quot;</td><td>1957</td><td>96</td><td>9.0</td><td>4.36</td></tr><tr><td>&quot;The Godfather …</td><td>1974</td><td>202</td><td>9.0</td><td>57.3</td></tr><tr><td>&quot;The Lord of th…</td><td>2003</td><td>201</td><td>9.0</td><td>377.85</td></tr><tr><td>&quot;Spider-Man: Ac…</td><td>2023</td><td>140</td><td>8.9</td><td>0.0</td></tr><tr><td>&quot;Pulp Fiction&quot;</td><td>1994</td><td>154</td><td>8.9</td><td>107.93</td></tr><tr><td>&quot;Inception&quot;</td><td>2010</td><td>148</td><td>8.8</td><td>292.58</td></tr><tr><td>&quot;The Lord of th…</td><td>2001</td><td>178</td><td>8.8</td><td>315.54</td></tr><tr><td>&quot;Fight Club&quot;</td><td>1999</td><td>139</td><td>8.8</td><td>37.03</td></tr><tr><td>&hellip;</td><td>&hellip;</td><td>&hellip;</td><td>&hellip;</td><td>&hellip;</td></tr><tr><td>&quot;Barton Fink&quot;</td><td>1991</td><td>116</td><td>7.6</td><td>6.15</td></tr><tr><td>&quot;The Last King …</td><td>2006</td><td>123</td><td>7.6</td><td>17.61</td></tr><tr><td>&quot;21 Grams&quot;</td><td>2003</td><td>124</td><td>7.6</td><td>16.29</td></tr><tr><td>&quot;United 93&quot;</td><td>2006</td><td>111</td><td>7.6</td><td>31.57</td></tr><tr><td>&quot;25th Hour&quot;</td><td>2002</td><td>135</td><td>7.6</td><td>13.06</td></tr><tr><td>&quot;The Taking of …</td><td>1974</td><td>104</td><td>7.6</td><td>2.49</td></tr><tr><td>&quot;Shine&quot;</td><td>1996</td><td>105</td><td>7.6</td><td>35.81</td></tr><tr><td>&quot;Philomena&quot;</td><td>2013</td><td>98</td><td>7.6</td><td>37.71</td></tr><tr><td>&quot;Control&quot;</td><td>2007</td><td>122</td><td>7.6</td><td>0.87</td></tr><tr><td>&quot;A Very Long En…</td><td>2004</td><td>133</td><td>7.6</td><td>6.17</td></tr><tr><td>&quot;The Invisible …</td><td>1933</td><td>71</td><td>7.6</td><td>0.0</td></tr><tr><td>&quot;Cell 211&quot;</td><td>2009</td><td>113</td><td>7.6</td><td>0.0</td></tr></tbody></table></div>"
      ],
      "text/plain": [
       "shape: (994, 5)\n",
       "┌──────────────────────────┬──────┬─────────┬────────┬──────────┐\n",
       "│ title                    ┆ year ┆ runtime ┆ rating ┆ gross(M) │\n",
       "│ ---                      ┆ ---  ┆ ---     ┆ ---    ┆ ---      │\n",
       "│ str                      ┆ i64  ┆ i64     ┆ f64    ┆ f64      │\n",
       "╞══════════════════════════╪══════╪═════════╪════════╪══════════╡\n",
       "│ The Shawshank Redemption ┆ 1994 ┆ 142     ┆ 9.3    ┆ 28.34    │\n",
       "│ The Godfather            ┆ 1972 ┆ 175     ┆ 9.2    ┆ 134.97   │\n",
       "│ The Dark Knight          ┆ 2008 ┆ 152     ┆ 9.0    ┆ 534.86   │\n",
       "│ Schindler's List         ┆ 1993 ┆ 195     ┆ 9.0    ┆ 96.9     │\n",
       "│ …                        ┆ …    ┆ …       ┆ …      ┆ …        │\n",
       "│ Control                  ┆ 2007 ┆ 122     ┆ 7.6    ┆ 0.87     │\n",
       "│ A Very Long Engagement   ┆ 2004 ┆ 133     ┆ 7.6    ┆ 6.17     │\n",
       "│ The Invisible Man        ┆ 1933 ┆ 71      ┆ 7.6    ┆ 0.0      │\n",
       "│ Cell 211                 ┆ 2009 ┆ 113     ┆ 7.6    ┆ 0.0      │\n",
       "└──────────────────────────┴──────┴─────────┴────────┴──────────┘"
      ]
     },
     "execution_count": 175,
     "metadata": {},
     "output_type": "execute_result"
    }
   ],
   "source": [
    "df"
   ]
  },
  {
   "cell_type": "markdown",
   "id": "2bad3a23",
   "metadata": {},
   "source": [
    "# Some agg"
   ]
  },
  {
   "cell_type": "code",
   "execution_count": 176,
   "id": "ad59d22f",
   "metadata": {},
   "outputs": [],
   "source": [
    "mx_rate = df.groupby('year').agg([\n",
    "    pl.all().sort_by('rating').last()\n",
    "]).sort(by='year')"
   ]
  },
  {
   "cell_type": "code",
   "execution_count": 177,
   "id": "051b523d",
   "metadata": {},
   "outputs": [
    {
     "data": {
      "text/html": [
       "<div><style>\n",
       ".dataframe > thead > tr > th,\n",
       ".dataframe > tbody > tr > td {\n",
       "  text-align: right;\n",
       "}\n",
       "</style>\n",
       "<small>shape: (102, 5)</small><table border=\"1\" class=\"dataframe\"><thead><tr><th>year</th><th>title</th><th>runtime</th><th>rating</th><th>gross(M)</th></tr><tr><td>i64</td><td>str</td><td>i64</td><td>f64</td><td>f64</td></tr></thead><tbody><tr><td>1920</td><td>&quot;The Cabinet of…</td><td>67</td><td>8.0</td><td>0.0</td></tr><tr><td>1921</td><td>&quot;The Kid&quot;</td><td>68</td><td>8.3</td><td>5.45</td></tr><tr><td>1922</td><td>&quot;Nosferatu&quot;</td><td>94</td><td>7.9</td><td>0.0</td></tr><tr><td>1924</td><td>&quot;Sherlock Jr.&quot;</td><td>45</td><td>8.2</td><td>0.98</td></tr><tr><td>1925</td><td>&quot;The Gold Rush&quot;</td><td>95</td><td>8.1</td><td>5.45</td></tr><tr><td>1926</td><td>&quot;The General&quot;</td><td>78</td><td>8.1</td><td>1.03</td></tr><tr><td>1927</td><td>&quot;Metropolis&quot;</td><td>153</td><td>8.3</td><td>1.24</td></tr><tr><td>1928</td><td>&quot;The Passion of…</td><td>114</td><td>8.2</td><td>0.02</td></tr><tr><td>1930</td><td>&quot;All Quiet on t…</td><td>152</td><td>8.1</td><td>3.27</td></tr><tr><td>1931</td><td>&quot;City Lights&quot;</td><td>87</td><td>8.5</td><td>0.02</td></tr><tr><td>1932</td><td>&quot;Freaks&quot;</td><td>64</td><td>7.8</td><td>0.63</td></tr><tr><td>1933</td><td>&quot;King Kong&quot;</td><td>100</td><td>7.9</td><td>10.0</td></tr><tr><td>&hellip;</td><td>&hellip;</td><td>&hellip;</td><td>&hellip;</td><td>&hellip;</td></tr><tr><td>2012</td><td>&quot;The Dark Knigh…</td><td>164</td><td>8.4</td><td>448.14</td></tr><tr><td>2013</td><td>&quot;Drishyam&quot;</td><td>160</td><td>8.3</td><td>0.0</td></tr><tr><td>2014</td><td>&quot;Interstellar&quot;</td><td>169</td><td>8.7</td><td>188.02</td></tr><tr><td>2015</td><td>&quot;Bajrangi Bhaij…</td><td>163</td><td>8.1</td><td>8.18</td></tr><tr><td>2016</td><td>&quot;Your Name.&quot;</td><td>106</td><td>8.4</td><td>5.02</td></tr><tr><td>2017</td><td>&quot;Coco&quot;</td><td>105</td><td>8.4</td><td>209.73</td></tr><tr><td>2018</td><td>&quot;96&quot;</td><td>158</td><td>8.5</td><td>0.0</td></tr><tr><td>2019</td><td>&quot;Parasite&quot;</td><td>132</td><td>8.5</td><td>53.37</td></tr><tr><td>2020</td><td>&quot;Soorarai Pottr…</td><td>153</td><td>8.7</td><td>0.0</td></tr><tr><td>2021</td><td>&quot;Jai Bhim&quot;</td><td>164</td><td>8.8</td><td>0.0</td></tr><tr><td>2022</td><td>&quot;Rocketry: The …</td><td>157</td><td>8.8</td><td>0.0</td></tr><tr><td>2023</td><td>&quot;Spider-Man: Ac…</td><td>140</td><td>8.9</td><td>0.0</td></tr></tbody></table></div>"
      ],
      "text/plain": [
       "shape: (102, 5)\n",
       "┌──────┬───────────────────────────────────┬─────────┬────────┬──────────┐\n",
       "│ year ┆ title                             ┆ runtime ┆ rating ┆ gross(M) │\n",
       "│ ---  ┆ ---                               ┆ ---     ┆ ---    ┆ ---      │\n",
       "│ i64  ┆ str                               ┆ i64     ┆ f64    ┆ f64      │\n",
       "╞══════╪═══════════════════════════════════╪═════════╪════════╪══════════╡\n",
       "│ 1920 ┆ The Cabinet of Dr. Caligari       ┆ 67      ┆ 8.0    ┆ 0.0      │\n",
       "│ 1921 ┆ The Kid                           ┆ 68      ┆ 8.3    ┆ 5.45     │\n",
       "│ 1922 ┆ Nosferatu                         ┆ 94      ┆ 7.9    ┆ 0.0      │\n",
       "│ 1924 ┆ Sherlock Jr.                      ┆ 45      ┆ 8.2    ┆ 0.98     │\n",
       "│ …    ┆ …                                 ┆ …       ┆ …      ┆ …        │\n",
       "│ 2020 ┆ Soorarai Pottru                   ┆ 153     ┆ 8.7    ┆ 0.0      │\n",
       "│ 2021 ┆ Jai Bhim                          ┆ 164     ┆ 8.8    ┆ 0.0      │\n",
       "│ 2022 ┆ Rocketry: The Nambi Effect        ┆ 157     ┆ 8.8    ┆ 0.0      │\n",
       "│ 2023 ┆ Spider-Man: Across the Spider-Ve… ┆ 140     ┆ 8.9    ┆ 0.0      │\n",
       "└──────┴───────────────────────────────────┴─────────┴────────┴──────────┘"
      ]
     },
     "execution_count": 177,
     "metadata": {},
     "output_type": "execute_result"
    }
   ],
   "source": [
    "mx_rate"
   ]
  },
  {
   "cell_type": "code",
   "execution_count": 178,
   "id": "3a8d2fb2",
   "metadata": {},
   "outputs": [],
   "source": [
    "import matplotlib.pyplot as plt"
   ]
  },
  {
   "cell_type": "markdown",
   "id": "5c977496",
   "metadata": {},
   "source": [
    "Funny enough, the lowest rating is 7.6 so that filter does nothing :)"
   ]
  },
  {
   "cell_type": "code",
   "execution_count": 181,
   "id": "8716f817",
   "metadata": {},
   "outputs": [
    {
     "data": {
      "text/plain": [
       "[<matplotlib.lines.Line2D at 0x1a9f03fcd30>]"
      ]
     },
     "execution_count": 181,
     "metadata": {},
     "output_type": "execute_result"
    },
    {
     "data": {
      "image/png": "[encoded data removed]",
      "text/plain": [
       "<Figure size 640x480 with 1 Axes>"
      ]
     },
     "metadata": {},
     "output_type": "display_data"
    }
   ],
   "source": [
    "filtered_max = mx_rate.filter(\n",
    "    (pl.col(\"rating\") > 7.5) &\n",
    "    (pl.col(\"year\") > 2000)\n",
    ")\n",
    "plt.plot(filtered_max['rating'])"
   ]
  },
  {
   "cell_type": "code",
   "execution_count": 190,
   "id": "7d5437d2",
   "metadata": {},
   "outputs": [
    {
     "name": "stdout",
     "output_type": "stream",
     "text": [
      "The Lord of the Rings: The Fellowship of the Ring (2001)\n",
      "The Lord of the Rings: The Two Towers (2002)\n",
      "The Lord of the Rings: The Return of the King (2003)\n",
      "Eternal Sunshine of the Spotless Mind (2004)\n",
      "My Father and My Son (2005)\n",
      "The Prestige (2006)\n",
      "Like Stars on Earth (2007)\n",
      "The Dark Knight (2008)\n",
      "3 Idiots (2009)\n",
      "Inception (2010)\n",
      "The Intouchables (2011)\n",
      "The Dark Knight Rises (2012)\n",
      "Drishyam (2013)\n",
      "Interstellar (2014)\n",
      "Bajrangi Bhaijaan (2015)\n",
      "Your Name. (2016)\n",
      "Coco (2017)\n",
      "96 (2018)\n",
      "Parasite (2019)\n",
      "Soorarai Pottru (2020)\n",
      "Jai Bhim (2021)\n",
      "Rocketry: The Nambi Effect (2022)\n",
      "Spider-Man: Across the Spider-Verse (2023)\n"
     ]
    }
   ],
   "source": [
    "for row in filtered_max.iter_rows():\n",
    "    print(f\"{row[1]} ({row[0]})\")"
   ]
  },
  {
   "cell_type": "code",
   "execution_count": null,
   "id": "11fcd7fc",
   "metadata": {},
   "outputs": [],
   "source": []
  }
 ],
 "metadata": {
  "kernelspec": {
   "display_name": "Python 3 (ipykernel)",
   "language": "python",
   "name": "python3"
  },
  "language_info": {
   "codemirror_mode": {
    "name": "ipython",
    "version": 3
   },
   "file_extension": ".py",
   "mimetype": "text/x-python",
   "name": "python",
   "nbconvert_exporter": "python",
   "pygments_lexer": "ipython3",
   "version": "3.10.11"
  }
 },
 "nbformat": 4,
 "nbformat_minor": 5
}
