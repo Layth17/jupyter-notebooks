{
 "cells": [
  {
   "cell_type": "code",
   "execution_count": 1,
   "id": "dd411dd8",
   "metadata": {},
   "outputs": [],
   "source": [
    "import torch"
   ]
  },
  {
   "cell_type": "code",
   "execution_count": 9,
   "id": "90192835",
   "metadata": {},
   "outputs": [
    {
     "data": {
      "text/plain": [
       "tensor([-1.2168, -1.8609,  0.1904, -0.1268, -1.2072])"
      ]
     },
     "execution_count": 9,
     "metadata": {},
     "output_type": "execute_result"
    }
   ],
   "source": [
    "torch.randn(5) # creating noise vector"
   ]
  },
  {
   "cell_type": "code",
   "execution_count": 10,
   "id": "de4b8cf2",
   "metadata": {},
   "outputs": [
    {
     "data": {
      "text/plain": [
       "tensor([[-1.3031, -0.8586, -0.0191, -0.0993],\n",
       "        [-0.8043,  0.4218,  0.1227,  1.5616],\n",
       "        [-0.4860, -0.0669, -0.1639, -0.9548],\n",
       "        [-0.7979,  0.2060, -0.9231,  0.8312],\n",
       "        [ 0.7081, -0.3157, -1.7353, -0.2826]])"
      ]
     },
     "execution_count": 10,
     "metadata": {},
     "output_type": "execute_result"
    }
   ],
   "source": [
    "torch.randn(5, 4)"
   ]
  },
  {
   "cell_type": "code",
   "execution_count": null,
   "id": "bb356539",
   "metadata": {},
   "outputs": [],
   "source": []
  }
 ],
 "metadata": {
  "kernelspec": {
   "display_name": "Python 3 (ipykernel)",
   "language": "python",
   "name": "python3"
  },
  "language_info": {
   "codemirror_mode": {
    "name": "ipython",
    "version": 3
   },
   "file_extension": ".py",
   "mimetype": "text/x-python",
   "name": "python",
   "nbconvert_exporter": "python",
   "pygments_lexer": "ipython3",
   "version": "3.10.11"
  }
 },
 "nbformat": 4,
 "nbformat_minor": 5
}
