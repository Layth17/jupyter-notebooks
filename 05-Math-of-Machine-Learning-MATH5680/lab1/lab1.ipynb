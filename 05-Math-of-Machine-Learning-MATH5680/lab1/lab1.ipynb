{
 "cells": [
  {
   "cell_type": "code",
   "execution_count": 2,
   "id": "0734f2b1-f66c-4cfe-8e3e-bd697ddab965",
   "metadata": {},
   "outputs": [],
   "source": [
    "import pandas as pd \n",
    "import numpy as np\n",
    "import matplotlib.pyplot as plt\n",
    "from sklearn.linear_model import LinearRegression"
   ]
  },
  {
   "cell_type": "code",
   "execution_count": 3,
   "id": "15307a11-a523-460d-b787-38ae0814e2d0",
   "metadata": {},
   "outputs": [],
   "source": [
    "data = pd.read_csv(\"./Advertising.csv\")"
   ]
  },
  {
   "cell_type": "code",
   "execution_count": 4,
   "id": "5691b47e-42de-4cae-9011-f425d89ee647",
   "metadata": {},
   "outputs": [
    {
     "data": {
      "text/html": [
       "<div>\n",
       "<style scoped>\n",
       "    .dataframe tbody tr th:only-of-type {\n",
       "        vertical-align: middle;\n",
       "    }\n",
       "\n",
       "    .dataframe tbody tr th {\n",
       "        vertical-align: top;\n",
       "    }\n",
       "\n",
       "    .dataframe thead th {\n",
       "        text-align: right;\n",
       "    }\n",
       "</style>\n",
       "<table border=\"1\" class=\"dataframe\">\n",
       "  <thead>\n",
       "    <tr style=\"text-align: right;\">\n",
       "      <th></th>\n",
       "      <th>TV</th>\n",
       "      <th>radio</th>\n",
       "      <th>newspaper</th>\n",
       "    </tr>\n",
       "  </thead>\n",
       "  <tbody>\n",
       "    <tr>\n",
       "      <th>0</th>\n",
       "      <td>230.1</td>\n",
       "      <td>37.8</td>\n",
       "      <td>69.2</td>\n",
       "    </tr>\n",
       "    <tr>\n",
       "      <th>1</th>\n",
       "      <td>44.5</td>\n",
       "      <td>39.3</td>\n",
       "      <td>45.1</td>\n",
       "    </tr>\n",
       "    <tr>\n",
       "      <th>2</th>\n",
       "      <td>17.2</td>\n",
       "      <td>45.9</td>\n",
       "      <td>69.3</td>\n",
       "    </tr>\n",
       "    <tr>\n",
       "      <th>3</th>\n",
       "      <td>151.5</td>\n",
       "      <td>41.3</td>\n",
       "      <td>58.5</td>\n",
       "    </tr>\n",
       "    <tr>\n",
       "      <th>4</th>\n",
       "      <td>180.8</td>\n",
       "      <td>10.8</td>\n",
       "      <td>58.4</td>\n",
       "    </tr>\n",
       "    <tr>\n",
       "      <th>...</th>\n",
       "      <td>...</td>\n",
       "      <td>...</td>\n",
       "      <td>...</td>\n",
       "    </tr>\n",
       "    <tr>\n",
       "      <th>195</th>\n",
       "      <td>38.2</td>\n",
       "      <td>3.7</td>\n",
       "      <td>13.8</td>\n",
       "    </tr>\n",
       "    <tr>\n",
       "      <th>196</th>\n",
       "      <td>94.2</td>\n",
       "      <td>4.9</td>\n",
       "      <td>8.1</td>\n",
       "    </tr>\n",
       "    <tr>\n",
       "      <th>197</th>\n",
       "      <td>177.0</td>\n",
       "      <td>9.3</td>\n",
       "      <td>6.4</td>\n",
       "    </tr>\n",
       "    <tr>\n",
       "      <th>198</th>\n",
       "      <td>283.6</td>\n",
       "      <td>42.0</td>\n",
       "      <td>66.2</td>\n",
       "    </tr>\n",
       "    <tr>\n",
       "      <th>199</th>\n",
       "      <td>232.1</td>\n",
       "      <td>8.6</td>\n",
       "      <td>8.7</td>\n",
       "    </tr>\n",
       "  </tbody>\n",
       "</table>\n",
       "<p>200 rows × 3 columns</p>\n",
       "</div>"
      ],
      "text/plain": [
       "        TV  radio  newspaper\n",
       "0    230.1   37.8       69.2\n",
       "1     44.5   39.3       45.1\n",
       "2     17.2   45.9       69.3\n",
       "3    151.5   41.3       58.5\n",
       "4    180.8   10.8       58.4\n",
       "..     ...    ...        ...\n",
       "195   38.2    3.7       13.8\n",
       "196   94.2    4.9        8.1\n",
       "197  177.0    9.3        6.4\n",
       "198  283.6   42.0       66.2\n",
       "199  232.1    8.6        8.7\n",
       "\n",
       "[200 rows x 3 columns]"
      ]
     },
     "execution_count": 4,
     "metadata": {},
     "output_type": "execute_result"
    }
   ],
   "source": [
    "x = data.drop(['sales', 'Unnamed: 0'], axis=1)\n",
    "y = data['sales']\n",
    "x"
   ]
  },
  {
   "cell_type": "code",
   "execution_count": 5,
   "id": "f90dbc0b-457b-4f6e-b0c1-05239066d96c",
   "metadata": {},
   "outputs": [
    {
     "data": {
      "text/plain": [
       "0      22.1\n",
       "1      10.4\n",
       "2       9.3\n",
       "3      18.5\n",
       "4      12.9\n",
       "       ... \n",
       "195     7.6\n",
       "196     9.7\n",
       "197    12.8\n",
       "198    25.5\n",
       "199    13.4\n",
       "Name: sales, Length: 200, dtype: float64"
      ]
     },
     "execution_count": 5,
     "metadata": {},
     "output_type": "execute_result"
    }
   ],
   "source": [
    "y"
   ]
  },
  {
   "cell_type": "code",
   "execution_count": 6,
   "id": "26c86df5-6cd5-4977-acfe-430ff782c650",
   "metadata": {},
   "outputs": [
    {
     "name": "stdout",
     "output_type": "stream",
     "text": [
      "[ 0.04576465  0.18853002 -0.00103749]\n",
      "2.938889369459412\n"
     ]
    }
   ],
   "source": [
    "model = LinearRegression().fit(x, y)\n",
    "print(model.coef_)\n",
    "print(model.intercept_)\n",
    "r2 = model.score(x, y)"
   ]
  },
  {
   "cell_type": "markdown",
   "id": "6eae5652-a745-468e-a55c-95bbdafc081b",
   "metadata": {},
   "source": [
    "1. What is the loss function used in LinearRegression by default? What are other choices?\n",
    "  - mean squared error (MSE)\n",
    "  - https://scikit-learn.org/stable/modules/linear_model.html\n",
    "  - https://medium.com/analytics-vidhya/sklearn-linear-regression-under-the-hood-31ee71aec00#:~:text=The%20algorithm%20minimizes%20a%20loss,Mean%20Squared%20Error(RMSE)."
   ]
  },
  {
   "cell_type": "markdown",
   "id": "5416c2b4-4498-4479-a7fc-353c2d78dca5",
   "metadata": {},
   "source": [
    "2. What is the optimization method used in Linear Regression by default?\n",
    "- least squares optimization\n"
   ]
  },
  {
   "cell_type": "markdown",
   "id": "de96eeea-b70c-487e-9f30-3cf398405c4e",
   "metadata": {},
   "source": [
    "3. Find the analytical solution (solve by hand or use numpy (?)) of the coefficents of the multiple linear regression and compare with the results from LinearRegression. "
   ]
  },
  {
   "cell_type": "code",
   "execution_count": 25,
   "id": "d86739fe-41c6-45d2-b86a-db86bee3cc45",
   "metadata": {},
   "outputs": [],
   "source": [
    "data = np.c_[x]\n",
    "XX = np.c_[data, np.ones(200)]"
   ]
  },
  {
   "cell_type": "code",
   "execution_count": 20,
   "id": "64100e01-4f09-485e-a783-8e38b86aaad2",
   "metadata": {},
   "outputs": [
    {
     "data": {
      "text/plain": [
       "array([[230.1,  37.8,  69.2,   1. ],\n",
       "       [ 44.5,  39.3,  45.1,   1. ],\n",
       "       [ 17.2,  45.9,  69.3,   1. ],\n",
       "       [151.5,  41.3,  58.5,   1. ],\n",
       "       [180.8,  10.8,  58.4,   1. ],\n",
       "       [  8.7,  48.9,  75. ,   1. ],\n",
       "       [ 57.5,  32.8,  23.5,   1. ],\n",
       "       [120.2,  19.6,  11.6,   1. ],\n",
       "       [  8.6,   2.1,   1. ,   1. ],\n",
       "       [199.8,   2.6,  21.2,   1. ],\n",
       "       [ 66.1,   5.8,  24.2,   1. ],\n",
       "       [214.7,  24. ,   4. ,   1. ],\n",
       "       [ 23.8,  35.1,  65.9,   1. ],\n",
       "       [ 97.5,   7.6,   7.2,   1. ],\n",
       "       [204.1,  32.9,  46. ,   1. ],\n",
       "       [195.4,  47.7,  52.9,   1. ],\n",
       "       [ 67.8,  36.6, 114. ,   1. ],\n",
       "       [281.4,  39.6,  55.8,   1. ],\n",
       "       [ 69.2,  20.5,  18.3,   1. ],\n",
       "       [147.3,  23.9,  19.1,   1. ],\n",
       "       [218.4,  27.7,  53.4,   1. ],\n",
       "       [237.4,   5.1,  23.5,   1. ],\n",
       "       [ 13.2,  15.9,  49.6,   1. ],\n",
       "       [228.3,  16.9,  26.2,   1. ],\n",
       "       [ 62.3,  12.6,  18.3,   1. ],\n",
       "       [262.9,   3.5,  19.5,   1. ],\n",
       "       [142.9,  29.3,  12.6,   1. ],\n",
       "       [240.1,  16.7,  22.9,   1. ],\n",
       "       [248.8,  27.1,  22.9,   1. ],\n",
       "       [ 70.6,  16. ,  40.8,   1. ],\n",
       "       [292.9,  28.3,  43.2,   1. ],\n",
       "       [112.9,  17.4,  38.6,   1. ],\n",
       "       [ 97.2,   1.5,  30. ,   1. ],\n",
       "       [265.6,  20. ,   0.3,   1. ],\n",
       "       [ 95.7,   1.4,   7.4,   1. ],\n",
       "       [290.7,   4.1,   8.5,   1. ],\n",
       "       [266.9,  43.8,   5. ,   1. ],\n",
       "       [ 74.7,  49.4,  45.7,   1. ],\n",
       "       [ 43.1,  26.7,  35.1,   1. ],\n",
       "       [228. ,  37.7,  32. ,   1. ],\n",
       "       [202.5,  22.3,  31.6,   1. ],\n",
       "       [177. ,  33.4,  38.7,   1. ],\n",
       "       [293.6,  27.7,   1.8,   1. ],\n",
       "       [206.9,   8.4,  26.4,   1. ],\n",
       "       [ 25.1,  25.7,  43.3,   1. ],\n",
       "       [175.1,  22.5,  31.5,   1. ],\n",
       "       [ 89.7,   9.9,  35.7,   1. ],\n",
       "       [239.9,  41.5,  18.5,   1. ],\n",
       "       [227.2,  15.8,  49.9,   1. ],\n",
       "       [ 66.9,  11.7,  36.8,   1. ],\n",
       "       [199.8,   3.1,  34.6,   1. ],\n",
       "       [100.4,   9.6,   3.6,   1. ],\n",
       "       [216.4,  41.7,  39.6,   1. ],\n",
       "       [182.6,  46.2,  58.7,   1. ],\n",
       "       [262.7,  28.8,  15.9,   1. ],\n",
       "       [198.9,  49.4,  60. ,   1. ],\n",
       "       [  7.3,  28.1,  41.4,   1. ],\n",
       "       [136.2,  19.2,  16.6,   1. ],\n",
       "       [210.8,  49.6,  37.7,   1. ],\n",
       "       [210.7,  29.5,   9.3,   1. ],\n",
       "       [ 53.5,   2. ,  21.4,   1. ],\n",
       "       [261.3,  42.7,  54.7,   1. ],\n",
       "       [239.3,  15.5,  27.3,   1. ],\n",
       "       [102.7,  29.6,   8.4,   1. ],\n",
       "       [131.1,  42.8,  28.9,   1. ],\n",
       "       [ 69. ,   9.3,   0.9,   1. ],\n",
       "       [ 31.5,  24.6,   2.2,   1. ],\n",
       "       [139.3,  14.5,  10.2,   1. ],\n",
       "       [237.4,  27.5,  11. ,   1. ],\n",
       "       [216.8,  43.9,  27.2,   1. ],\n",
       "       [199.1,  30.6,  38.7,   1. ],\n",
       "       [109.8,  14.3,  31.7,   1. ],\n",
       "       [ 26.8,  33. ,  19.3,   1. ],\n",
       "       [129.4,   5.7,  31.3,   1. ],\n",
       "       [213.4,  24.6,  13.1,   1. ],\n",
       "       [ 16.9,  43.7,  89.4,   1. ],\n",
       "       [ 27.5,   1.6,  20.7,   1. ],\n",
       "       [120.5,  28.5,  14.2,   1. ],\n",
       "       [  5.4,  29.9,   9.4,   1. ],\n",
       "       [116. ,   7.7,  23.1,   1. ],\n",
       "       [ 76.4,  26.7,  22.3,   1. ],\n",
       "       [239.8,   4.1,  36.9,   1. ],\n",
       "       [ 75.3,  20.3,  32.5,   1. ],\n",
       "       [ 68.4,  44.5,  35.6,   1. ],\n",
       "       [213.5,  43. ,  33.8,   1. ],\n",
       "       [193.2,  18.4,  65.7,   1. ],\n",
       "       [ 76.3,  27.5,  16. ,   1. ],\n",
       "       [110.7,  40.6,  63.2,   1. ],\n",
       "       [ 88.3,  25.5,  73.4,   1. ],\n",
       "       [109.8,  47.8,  51.4,   1. ],\n",
       "       [134.3,   4.9,   9.3,   1. ],\n",
       "       [ 28.6,   1.5,  33. ,   1. ],\n",
       "       [217.7,  33.5,  59. ,   1. ],\n",
       "       [250.9,  36.5,  72.3,   1. ],\n",
       "       [107.4,  14. ,  10.9,   1. ],\n",
       "       [163.3,  31.6,  52.9,   1. ],\n",
       "       [197.6,   3.5,   5.9,   1. ],\n",
       "       [184.9,  21. ,  22. ,   1. ],\n",
       "       [289.7,  42.3,  51.2,   1. ],\n",
       "       [135.2,  41.7,  45.9,   1. ],\n",
       "       [222.4,   4.3,  49.8,   1. ],\n",
       "       [296.4,  36.3, 100.9,   1. ],\n",
       "       [280.2,  10.1,  21.4,   1. ],\n",
       "       [187.9,  17.2,  17.9,   1. ],\n",
       "       [238.2,  34.3,   5.3,   1. ],\n",
       "       [137.9,  46.4,  59. ,   1. ],\n",
       "       [ 25. ,  11. ,  29.7,   1. ],\n",
       "       [ 90.4,   0.3,  23.2,   1. ],\n",
       "       [ 13.1,   0.4,  25.6,   1. ],\n",
       "       [255.4,  26.9,   5.5,   1. ],\n",
       "       [225.8,   8.2,  56.5,   1. ],\n",
       "       [241.7,  38. ,  23.2,   1. ],\n",
       "       [175.7,  15.4,   2.4,   1. ],\n",
       "       [209.6,  20.6,  10.7,   1. ],\n",
       "       [ 78.2,  46.8,  34.5,   1. ],\n",
       "       [ 75.1,  35. ,  52.7,   1. ],\n",
       "       [139.2,  14.3,  25.6,   1. ],\n",
       "       [ 76.4,   0.8,  14.8,   1. ],\n",
       "       [125.7,  36.9,  79.2,   1. ],\n",
       "       [ 19.4,  16. ,  22.3,   1. ],\n",
       "       [141.3,  26.8,  46.2,   1. ],\n",
       "       [ 18.8,  21.7,  50.4,   1. ],\n",
       "       [224. ,   2.4,  15.6,   1. ],\n",
       "       [123.1,  34.6,  12.4,   1. ],\n",
       "       [229.5,  32.3,  74.2,   1. ],\n",
       "       [ 87.2,  11.8,  25.9,   1. ],\n",
       "       [  7.8,  38.9,  50.6,   1. ],\n",
       "       [ 80.2,   0. ,   9.2,   1. ],\n",
       "       [220.3,  49. ,   3.2,   1. ],\n",
       "       [ 59.6,  12. ,  43.1,   1. ],\n",
       "       [  0.7,  39.6,   8.7,   1. ],\n",
       "       [265.2,   2.9,  43. ,   1. ],\n",
       "       [  8.4,  27.2,   2.1,   1. ],\n",
       "       [219.8,  33.5,  45.1,   1. ],\n",
       "       [ 36.9,  38.6,  65.6,   1. ],\n",
       "       [ 48.3,  47. ,   8.5,   1. ],\n",
       "       [ 25.6,  39. ,   9.3,   1. ],\n",
       "       [273.7,  28.9,  59.7,   1. ],\n",
       "       [ 43. ,  25.9,  20.5,   1. ],\n",
       "       [184.9,  43.9,   1.7,   1. ],\n",
       "       [ 73.4,  17. ,  12.9,   1. ],\n",
       "       [193.7,  35.4,  75.6,   1. ],\n",
       "       [220.5,  33.2,  37.9,   1. ],\n",
       "       [104.6,   5.7,  34.4,   1. ],\n",
       "       [ 96.2,  14.8,  38.9,   1. ],\n",
       "       [140.3,   1.9,   9. ,   1. ],\n",
       "       [240.1,   7.3,   8.7,   1. ],\n",
       "       [243.2,  49. ,  44.3,   1. ],\n",
       "       [ 38. ,  40.3,  11.9,   1. ],\n",
       "       [ 44.7,  25.8,  20.6,   1. ],\n",
       "       [280.7,  13.9,  37. ,   1. ],\n",
       "       [121. ,   8.4,  48.7,   1. ],\n",
       "       [197.6,  23.3,  14.2,   1. ],\n",
       "       [171.3,  39.7,  37.7,   1. ],\n",
       "       [187.8,  21.1,   9.5,   1. ],\n",
       "       [  4.1,  11.6,   5.7,   1. ],\n",
       "       [ 93.9,  43.5,  50.5,   1. ],\n",
       "       [149.8,   1.3,  24.3,   1. ],\n",
       "       [ 11.7,  36.9,  45.2,   1. ],\n",
       "       [131.7,  18.4,  34.6,   1. ],\n",
       "       [172.5,  18.1,  30.7,   1. ],\n",
       "       [ 85.7,  35.8,  49.3,   1. ],\n",
       "       [188.4,  18.1,  25.6,   1. ],\n",
       "       [163.5,  36.8,   7.4,   1. ],\n",
       "       [117.2,  14.7,   5.4,   1. ],\n",
       "       [234.5,   3.4,  84.8,   1. ],\n",
       "       [ 17.9,  37.6,  21.6,   1. ],\n",
       "       [206.8,   5.2,  19.4,   1. ],\n",
       "       [215.4,  23.6,  57.6,   1. ],\n",
       "       [284.3,  10.6,   6.4,   1. ],\n",
       "       [ 50. ,  11.6,  18.4,   1. ],\n",
       "       [164.5,  20.9,  47.4,   1. ],\n",
       "       [ 19.6,  20.1,  17. ,   1. ],\n",
       "       [168.4,   7.1,  12.8,   1. ],\n",
       "       [222.4,   3.4,  13.1,   1. ],\n",
       "       [276.9,  48.9,  41.8,   1. ],\n",
       "       [248.4,  30.2,  20.3,   1. ],\n",
       "       [170.2,   7.8,  35.2,   1. ],\n",
       "       [276.7,   2.3,  23.7,   1. ],\n",
       "       [165.6,  10. ,  17.6,   1. ],\n",
       "       [156.6,   2.6,   8.3,   1. ],\n",
       "       [218.5,   5.4,  27.4,   1. ],\n",
       "       [ 56.2,   5.7,  29.7,   1. ],\n",
       "       [287.6,  43. ,  71.8,   1. ],\n",
       "       [253.8,  21.3,  30. ,   1. ],\n",
       "       [205. ,  45.1,  19.6,   1. ],\n",
       "       [139.5,   2.1,  26.6,   1. ],\n",
       "       [191.1,  28.7,  18.2,   1. ],\n",
       "       [286. ,  13.9,   3.7,   1. ],\n",
       "       [ 18.7,  12.1,  23.4,   1. ],\n",
       "       [ 39.5,  41.1,   5.8,   1. ],\n",
       "       [ 75.5,  10.8,   6. ,   1. ],\n",
       "       [ 17.2,   4.1,  31.6,   1. ],\n",
       "       [166.8,  42. ,   3.6,   1. ],\n",
       "       [149.7,  35.6,   6. ,   1. ],\n",
       "       [ 38.2,   3.7,  13.8,   1. ],\n",
       "       [ 94.2,   4.9,   8.1,   1. ],\n",
       "       [177. ,   9.3,   6.4,   1. ],\n",
       "       [283.6,  42. ,  66.2,   1. ],\n",
       "       [232.1,   8.6,   8.7,   1. ]])"
      ]
     },
     "execution_count": 20,
     "metadata": {},
     "output_type": "execute_result"
    }
   ],
   "source": [
    "XX"
   ]
  },
  {
   "attachments": {
    "image.png": {
     "image/png": "[encoded data removed]"
    }
   },
   "cell_type": "markdown",
   "id": "9adf4154",
   "metadata": {},
   "source": [
    "![image.png](attachment:image.png)"
   ]
  },
  {
   "cell_type": "code",
   "execution_count": 21,
   "id": "5921bf44",
   "metadata": {},
   "outputs": [
    {
     "data": {
      "text/plain": [
       "array([ 4.57646455e-02,  1.88530017e-01, -1.03749304e-03,  2.93888937e+00])"
      ]
     },
     "execution_count": 21,
     "metadata": {},
     "output_type": "execute_result"
    }
   ],
   "source": [
    "theta = np.linalg.inv(XX.T @ XX) @ (XX.T @ y)\n",
    "theta"
   ]
  },
  {
   "cell_type": "code",
   "execution_count": 22,
   "id": "42a78269",
   "metadata": {},
   "outputs": [
    {
     "name": "stdout",
     "output_type": "stream",
     "text": [
      "[ 0.04576465  0.18853002 -0.00103749]\n",
      "2.938889369459412\n"
     ]
    }
   ],
   "source": [
    "print(model.coef_)\n",
    "print(model.intercept_)"
   ]
  },
  {
   "cell_type": "markdown",
   "id": "26580de7",
   "metadata": {},
   "source": [
    "SAME NUMBERS !"
   ]
  },
  {
   "cell_type": "markdown",
   "id": "5f960dee",
   "metadata": {},
   "source": [
    "## 3D PLOT "
   ]
  },
  {
   "cell_type": "code",
   "execution_count": 24,
   "id": "d3fdd52d",
   "metadata": {},
   "outputs": [],
   "source": [
    "from mpl_toolkits.mplot3d import Axes3D as ax"
   ]
  },
  {
   "cell_type": "code",
   "execution_count": 26,
   "id": "9be776cc",
   "metadata": {},
   "outputs": [
    {
     "data": {
      "text/plain": [
       "array([230.1,  44.5,  17.2, 151.5, 180.8,   8.7,  57.5, 120.2,   8.6,\n",
       "       199.8,  66.1, 214.7,  23.8,  97.5, 204.1, 195.4,  67.8, 281.4,\n",
       "        69.2, 147.3, 218.4, 237.4,  13.2, 228.3,  62.3, 262.9, 142.9,\n",
       "       240.1, 248.8,  70.6, 292.9, 112.9,  97.2, 265.6,  95.7, 290.7,\n",
       "       266.9,  74.7,  43.1, 228. , 202.5, 177. , 293.6, 206.9,  25.1,\n",
       "       175.1,  89.7, 239.9, 227.2,  66.9, 199.8, 100.4, 216.4, 182.6,\n",
       "       262.7, 198.9,   7.3, 136.2, 210.8, 210.7,  53.5, 261.3, 239.3,\n",
       "       102.7, 131.1,  69. ,  31.5, 139.3, 237.4, 216.8, 199.1, 109.8,\n",
       "        26.8, 129.4, 213.4,  16.9,  27.5, 120.5,   5.4, 116. ,  76.4,\n",
       "       239.8,  75.3,  68.4, 213.5, 193.2,  76.3, 110.7,  88.3, 109.8,\n",
       "       134.3,  28.6, 217.7, 250.9, 107.4, 163.3, 197.6, 184.9, 289.7,\n",
       "       135.2, 222.4, 296.4, 280.2, 187.9, 238.2, 137.9,  25. ,  90.4,\n",
       "        13.1, 255.4, 225.8, 241.7, 175.7, 209.6,  78.2,  75.1, 139.2,\n",
       "        76.4, 125.7,  19.4, 141.3,  18.8, 224. , 123.1, 229.5,  87.2,\n",
       "         7.8,  80.2, 220.3,  59.6,   0.7, 265.2,   8.4, 219.8,  36.9,\n",
       "        48.3,  25.6, 273.7,  43. , 184.9,  73.4, 193.7, 220.5, 104.6,\n",
       "        96.2, 140.3, 240.1, 243.2,  38. ,  44.7, 280.7, 121. , 197.6,\n",
       "       171.3, 187.8,   4.1,  93.9, 149.8,  11.7, 131.7, 172.5,  85.7,\n",
       "       188.4, 163.5, 117.2, 234.5,  17.9, 206.8, 215.4, 284.3,  50. ,\n",
       "       164.5,  19.6, 168.4, 222.4, 276.9, 248.4, 170.2, 276.7, 165.6,\n",
       "       156.6, 218.5,  56.2, 287.6, 253.8, 205. , 139.5, 191.1, 286. ,\n",
       "        18.7,  39.5,  75.5,  17.2, 166.8, 149.7,  38.2,  94.2, 177. ,\n",
       "       283.6, 232.1])"
      ]
     },
     "execution_count": 26,
     "metadata": {},
     "output_type": "execute_result"
    }
   ],
   "source": [
    "x = data[:, 0]\n",
    "y = data[:, 1]\n",
    "z = data[:, 2]\n",
    "\n",
    "x"
   ]
  },
  {
   "cell_type": "code",
   "execution_count": null,
   "id": "f0d80e49",
   "metadata": {},
   "outputs": [],
   "source": []
  }
 ],
 "metadata": {
  "kernelspec": {
   "display_name": "base",
   "language": "python",
   "name": "python3"
  },
  "language_info": {
   "codemirror_mode": {
    "name": "ipython",
    "version": 3
   },
   "file_extension": ".py",
   "mimetype": "text/x-python",
   "name": "python",
   "nbconvert_exporter": "python",
   "pygments_lexer": "ipython3",
   "version": "3.8.3"
  }
 },
 "nbformat": 4,
 "nbformat_minor": 5
}
