{
 "cells": [
  {
   "cell_type": "markdown",
   "id": "4b8f0183-09e0-47b3-86fc-9e8a82eb8c98",
   "metadata": {},
   "source": [
    "# Python Demo -- Layth Aljorani"
   ]
  },
  {
   "cell_type": "markdown",
   "id": "d15116ea-a4f1-40f7-9630-03dff8d45724",
   "metadata": {
    "tags": []
   },
   "source": [
    "## One Simulation"
   ]
  },
  {
   "cell_type": "markdown",
   "id": "1583a69b-51d8-42f8-9583-e09a96efcf5e",
   "metadata": {},
   "source": [
    "### Create points"
   ]
  },
  {
   "cell_type": "code",
   "execution_count": 4,
   "id": "c0942a13-06c5-4ce2-9aab-c94d0c1660f4",
   "metadata": {},
   "outputs": [],
   "source": [
    "import numpy as np"
   ]
  },
  {
   "cell_type": "markdown",
   "id": "2c962807-243c-42ec-ae0f-a7060b5809db",
   "metadata": {},
   "source": [
    "Under module **np.random**:\n",
    "- rand() returns a single random number\n",
    "- rand(n) returns n random numbers"
   ]
  },
  {
   "cell_type": "code",
   "execution_count": 12,
   "id": "1268c029-9c22-4b10-8ccd-1fbcb4596c3a",
   "metadata": {},
   "outputs": [],
   "source": [
    "DIM = 2 # points are two dimensional\n",
    "\n",
    "p1 = np.random.rand(DIM)\n",
    "p2 = np.random.rand(DIM)"
   ]
  },
  {
   "cell_type": "code",
   "execution_count": 24,
   "id": "10eeabe6-674c-47e9-9752-ae3856c48c3f",
   "metadata": {},
   "outputs": [
    {
     "data": {
      "text/plain": [
       "array([0.84349872, 0.73618739])"
      ]
     },
     "execution_count": 24,
     "metadata": {},
     "output_type": "execute_result"
    }
   ],
   "source": [
    "p1"
   ]
  },
  {
   "cell_type": "code",
   "execution_count": 16,
   "id": "3a47b10e-11c6-4d09-81f4-3b55967f21dd",
   "metadata": {},
   "outputs": [
    {
     "data": {
      "text/plain": [
       "array([0.45549437, 0.63295072])"
      ]
     },
     "execution_count": 16,
     "metadata": {},
     "output_type": "execute_result"
    }
   ],
   "source": [
    "p2"
   ]
  },
  {
   "cell_type": "markdown",
   "id": "91bbf370-3016-4fd5-8b43-11ae98d004f3",
   "metadata": {},
   "source": [
    "### Measure Distance"
   ]
  },
  {
   "cell_type": "markdown",
   "id": "4a454efe-dab8-480a-9c4c-c2f30b25c402",
   "metadata": {},
   "source": [
    "Under module **np.linalg**:\n",
    "- norm(p) returns the Euclidean length of the vector p\n",
    "- norm(p1-p2) returns the Euclidean distance between the two points"
   ]
  },
  {
   "cell_type": "code",
   "execution_count": 35,
   "id": "59b99b85-45ba-40a7-a204-a69c9d0198ab",
   "metadata": {},
   "outputs": [
    {
     "data": {
      "text/plain": [
       "0.40150365417748346"
      ]
     },
     "execution_count": 35,
     "metadata": {},
     "output_type": "execute_result"
    }
   ],
   "source": [
    "d = np.linalg.norm(p1 - p2)\n",
    "d"
   ]
  },
  {
   "cell_type": "markdown",
   "id": "5b89292d-3531-4336-8905-f63e448e3802",
   "metadata": {},
   "source": [
    "### Visualize"
   ]
  },
  {
   "cell_type": "code",
   "execution_count": 39,
   "id": "8b8121e0-f306-4195-b667-351ad52dd736",
   "metadata": {},
   "outputs": [
    {
     "name": "stderr",
     "output_type": "stream",
     "text": [
      "Matplotlib is building the font cache; this may take a moment.\n"
     ]
    }
   ],
   "source": [
    "import matplotlib.pyplot as plt"
   ]
  },
  {
   "cell_type": "code",
   "execution_count": 65,
   "id": "a2da794a-1e1e-42dc-a2c6-d85cde5b1b19",
   "metadata": {},
   "outputs": [
    {
     "data": {
      "image/png": "[encoded data removed]",
      "text/plain": [
       "<Figure size 640x480 with 1 Axes>"
      ]
     },
     "metadata": {},
     "output_type": "display_data"
    }
   ],
   "source": [
    "plt.plot(p1[0], p1[1], 'r*') # red star\n",
    "plt.plot(p2[0], p2[1], 'b*') # blue star\n",
    "plt.plot([p1[0], p2[0]], [p1[1], p2[1]], 'k-') # line\n",
    "plt.axis([0,1,0,1]) # [xmin, xmax, ymin, ymax]\n",
    "plt.show()"
   ]
  },
  {
   "cell_type": "markdown",
   "id": "417c395a-f1f2-4783-8e40-6eb00b8179b2",
   "metadata": {},
   "source": [
    "## Many Simulations"
   ]
  },
  {
   "cell_type": "code",
   "execution_count": 73,
   "id": "2a3c0fdc-a711-4f5f-a8b8-1e83c3acf776",
   "metadata": {},
   "outputs": [
    {
     "name": "stdout",
     "output_type": "stream",
     "text": [
      "0.44771418936330765\n"
     ]
    }
   ],
   "source": [
    "avg: int = 0\n",
    "n = 10\n",
    "for test in range(n):\n",
    "    # init points\n",
    "    p1 = np.random.rand(2)\n",
    "    p2 = np.random.rand(2)\n",
    "    # measure distance\n",
    "    d = np.linalg.norm(p1 - p2)\n",
    "    avg += d\n",
    "    \n",
    "avg /= n\n",
    "print(avg)"
   ]
  },
  {
   "cell_type": "markdown",
   "id": "6a63486b-e0a8-49e6-80c4-6ea504628c76",
   "metadata": {},
   "source": [
    "### Let's use arrays instead of for loops"
   ]
  },
  {
   "cell_type": "code",
   "execution_count": 80,
   "id": "63b3535a-929f-4fed-85e1-19b32a633d6c",
   "metadata": {},
   "outputs": [
    {
     "data": {
      "text/plain": [
       "array([[0.78811257, 0.80486314, 0.45592381, 0.25426942, 0.75195953,\n",
       "        0.73845527, 0.06908519, 0.69766266, 0.0213907 , 0.15374811],\n",
       "       [0.11381868, 0.43581105, 0.85293752, 0.5465541 , 0.79285926,\n",
       "        0.14497925, 0.20224561, 0.37946163, 0.59387053, 0.08558776]])"
      ]
     },
     "execution_count": 80,
     "metadata": {},
     "output_type": "execute_result"
    }
   ],
   "source": [
    "np.random.rand(2, 10) # example array"
   ]
  },
  {
   "cell_type": "code",
   "execution_count": 82,
   "id": "2590c7ed-a88b-4a8c-ab5d-2c7c401447a4",
   "metadata": {},
   "outputs": [
    {
     "name": "stdout",
     "output_type": "stream",
     "text": [
      "0.46131880008118237\n"
     ]
    }
   ],
   "source": [
    "n = 10\n",
    "p1 = np.random.rand(2, n)\n",
    "p2 = np.random.rand(2, n)\n",
    "d = np.linalg.norm(p1 - p2, axis = 0) # specify axis !\n",
    "avg = np.mean(d)\n",
    "print(avg)"
   ]
  },
  {
   "cell_type": "markdown",
   "id": "8a94bbcf-b68e-4749-98b0-c08ed0c7304f",
   "metadata": {},
   "source": [
    "### Timing Comparisons"
   ]
  },
  {
   "cell_type": "code",
   "execution_count": 88,
   "id": "5a75c1d6-f0f9-4f1f-94a2-a8e0e42a216c",
   "metadata": {},
   "outputs": [],
   "source": [
    "def sim_many(n: int):\n",
    "    avg = 0.0\n",
    "    for test in range(n):\n",
    "        # init points\n",
    "        p1 = np.random.rand(2)\n",
    "        p2 = np.random.rand(2)\n",
    "        # measure distance\n",
    "        d = np.linalg.norm(p1 - p2)\n",
    "        avg += d\n",
    "    \n",
    "    avg /= n\n",
    "    return avg"
   ]
  },
  {
   "cell_type": "code",
   "execution_count": 96,
   "id": "fd3273a0-44c8-4248-ac21-dd3d8b54386d",
   "metadata": {},
   "outputs": [],
   "source": [
    "def sim_vector(n: int):\n",
    "    p1 = np.random.rand(2, n)\n",
    "    p2 = np.random.rand(2, n)\n",
    "    d = np.linalg.norm(p1 - p2, axis = 0) # specify axis !\n",
    "    avg = np.mean(d)\n",
    "    return avg"
   ]
  },
  {
   "cell_type": "code",
   "execution_count": 106,
   "id": "ddb3cdd6-3b0b-4c20-83ef-2e643cf36814",
   "metadata": {},
   "outputs": [
    {
     "name": "stdout",
     "output_type": "stream",
     "text": [
      "1692762152.7311344\n",
      "<built-in function time>\n"
     ]
    }
   ],
   "source": [
    "from time import time\n",
    "print(time())\n",
    "print(time)"
   ]
  },
  {
   "cell_type": "code",
   "execution_count": 117,
   "id": "52cd8161-1ce2-4241-aa8c-3054488da67f",
   "metadata": {},
   "outputs": [
    {
     "name": "stdout",
     "output_type": "stream",
     "text": [
      "10: Loops method @ 0.0012 seconds, Vectorized method @ 0.0001 seconds\n",
      "100: Loops method @ 0.0006 seconds, Vectorized method @ 0.0001 seconds\n",
      "1000: Loops method @ 0.0067 seconds, Vectorized method @ 0.0001 seconds\n",
      "10000: Loops method @ 0.0534 seconds, Vectorized method @ 0.0007 seconds\n",
      "100000: Loops method @ 0.5160 seconds, Vectorized method @ 0.0077 seconds\n",
      "1000000: Loops method @ 5.0593 seconds, Vectorized method @ 0.0605 seconds\n"
     ]
    }
   ],
   "source": [
    "for logn in range(1, 7):\n",
    "    n = 10 ** logn\n",
    "    print(f\"{n}: \", end='')\n",
    "    \n",
    "    t = time()\n",
    "    sim_many(n)\n",
    "    t = time() - t\n",
    "    print(f\"Loops method @ {t:.4f} seconds, \", end='')\n",
    "    \n",
    "    t = time()\n",
    "    sim_vector(n)\n",
    "    t = time() - t\n",
    "    print(f\"Vectorized method @ {t:.4f} seconds\")"
   ]
  },
  {
   "cell_type": "markdown",
   "id": "cb43eb33-0ed1-4ce2-a1f7-6919b3d40f5f",
   "metadata": {},
   "source": [
    "### Convergence"
   ]
  },
  {
   "cell_type": "code",
   "execution_count": 121,
   "id": "6586ff96-dfa0-4782-ba02-21a9e19a9223",
   "metadata": {},
   "outputs": [
    {
     "name": "stdout",
     "output_type": "stream",
     "text": [
      "10: 0.5119454972249681, 0.5119454972249681\n",
      "100: 0.5537436413420099, 0.04179814411704186\n",
      "1000: 0.5340388474814631, -0.0197047938605468\n",
      "10000: 0.5204133307261505, -0.01362551675531265\n",
      "100000: 0.521443270207492, 0.0010299394813415574\n",
      "1000000: 0.5215006695000147, 5.7399292522686274e-05\n"
     ]
    }
   ],
   "source": [
    "avg_old = 0.0\n",
    "for logn in range(1, 7):\n",
    "    n = 10 ** logn\n",
    "    avg = sim_vector(n)\n",
    "    print(f\"{n}: {avg}, {avg - avg_old}\")\n",
    "    avg_old = avg\n",
    "\n",
    "    # we are basically getting less and less off from the real theoretical average"
   ]
  },
  {
   "cell_type": "markdown",
   "id": "d7875d51-59cd-48d0-b772-11414e6f8bec",
   "metadata": {},
   "source": [
    "### Histogram"
   ]
  },
  {
   "cell_type": "code",
   "execution_count": 151,
   "id": "4a4f9738-49fa-4655-856e-92aacdd4ada7",
   "metadata": {},
   "outputs": [
    {
     "data": {
      "image/png": "[encoded data removed]",
      "text/plain": [
       "<Figure size 640x480 with 1 Axes>"
      ]
     },
     "metadata": {},
     "output_type": "display_data"
    }
   ],
   "source": [
    "n = 10000\n",
    "p1 = np.random.rand(2, n)\n",
    "p2 = np.random.rand(2, n)\n",
    "d = np.linalg.norm(p1 - p2, axis=0)\n",
    "\n",
    "# rwidth: width of the bins\n",
    "plt.hist(d, bins=20, rwidth=0.95, density=True)\n",
    "plt.show()"
   ]
  },
  {
   "cell_type": "markdown",
   "id": "5373d923-6f31-4012-af31-d8d418c9c247",
   "metadata": {},
   "source": [
    "### Compare exact vs observed PDF"
   ]
  },
  {
   "cell_type": "code",
   "execution_count": 199,
   "id": "b5c40d2e-c628-4f7e-b8d8-5bd9dc9ec149",
   "metadata": {},
   "outputs": [
    {
     "data": {
      "image/png": "[encoded data removed]",
      "text/plain": [
       "<Figure size 640x480 with 1 Axes>"
      ]
     },
     "metadata": {},
     "output_type": "display_data"
    }
   ],
   "source": [
    "import math\n",
    "\n",
    "def f(d):\n",
    "    if isinstance(d, np.ndarray):\n",
    "        result = np.zeros(d.shape)\n",
    "        mask = d <= 1.0\n",
    "        result[mask] = 2 * d[mask] * ((d[mask]**2) - (4 * d[mask]) + math.pi)\n",
    "        result[~mask] = 2 * d[~mask] * ((4 * np.sqrt((d[~mask]**2) - 1.0)) - ((d[~mask]**2) + 2 - math.pi) - (4 * np.arctan(np.sqrt((d[~mask]**2) - 1))))\n",
    "        return result\n",
    "    else:\n",
    "        if d <= 1.0: return (2*d)((d**2) - (4*d) + math.pi)\n",
    "        else: return (2*d)((4 * math.sqrt((d**2) - 1.0)) - ((d**2) + 2 - math.pi) - (4 * math.atan(math.sqrt((d**2) - 1))))\n",
    "\n",
    "# Run Sim\n",
    "n = 1000000 # million runs\n",
    "p1 = np.random.rand(2, n)\n",
    "p2 = np.random.rand(2, n)\n",
    "d = np.linalg.norm(p1 - p2, axis=0)\n",
    "\n",
    "# plot histogram\n",
    "plt.hist(d, bins=20, rwidth=0.95, density=True)\n",
    "\n",
    "# plot function\n",
    "x = np.linspace(0,1.5)\n",
    "plt.plot(x, f(x))\n",
    "\n",
    "# house keeping\n",
    "plt.axis([-.05,1.5,0,1.5])\n",
    "plt.title('Compare exact and observed PDF')\n",
    "plt.xlabel(\"<-- Distance -->\")\n",
    "plt.ylabel(\"<-- Frequency -->\")\n",
    "plt.show()"
   ]
  },
  {
   "cell_type": "code",
   "execution_count": 202,
   "id": "e47fd442-68af-4fae-95e9-269eee2c0f8f",
   "metadata": {},
   "outputs": [
    {
     "name": "stdout",
     "output_type": "stream",
     "text": [
      "Defaulting to user installation because normal site-packages is not writeable\n",
      "Looking in links: /usr/share/pip-wheels\n",
      "Requirement already satisfied: nbconvert in /opt/conda/envs/anaconda-panel-2023.05-py310/lib/python3.11/site-packages (6.5.4)\n",
      "Requirement already satisfied: lxml in /opt/conda/envs/anaconda-panel-2023.05-py310/lib/python3.11/site-packages (from nbconvert) (4.9.1)\n",
      "Requirement already satisfied: beautifulsoup4 in /opt/conda/envs/anaconda-panel-2023.05-py310/lib/python3.11/site-packages (from nbconvert) (4.12.2)\n",
      "Requirement already satisfied: bleach in /opt/conda/envs/anaconda-panel-2023.05-py310/lib/python3.11/site-packages (from nbconvert) (4.1.0)\n",
      "Requirement already satisfied: defusedxml in /opt/conda/envs/anaconda-panel-2023.05-py310/lib/python3.11/site-packages (from nbconvert) (0.7.1)\n",
      "Requirement already satisfied: entrypoints>=0.2.2 in /opt/conda/envs/anaconda-panel-2023.05-py310/lib/python3.11/site-packages (from nbconvert) (0.4)\n",
      "Requirement already satisfied: jinja2>=3.0 in /opt/conda/envs/anaconda-panel-2023.05-py310/lib/python3.11/site-packages (from nbconvert) (3.1.2)\n",
      "Requirement already satisfied: jupyter-core>=4.7 in /opt/conda/envs/anaconda-panel-2023.05-py310/lib/python3.11/site-packages (from nbconvert) (5.3.0)\n",
      "Requirement already satisfied: jupyterlab-pygments in /opt/conda/envs/anaconda-panel-2023.05-py310/lib/python3.11/site-packages (from nbconvert) (0.1.2)\n",
      "Requirement already satisfied: MarkupSafe>=2.0 in /opt/conda/envs/anaconda-panel-2023.05-py310/lib/python3.11/site-packages (from nbconvert) (2.1.1)\n",
      "Requirement already satisfied: mistune<2,>=0.8.1 in /opt/conda/envs/anaconda-panel-2023.05-py310/lib/python3.11/site-packages (from nbconvert) (0.8.4)\n",
      "Requirement already satisfied: nbclient>=0.5.0 in /opt/conda/envs/anaconda-panel-2023.05-py310/lib/python3.11/site-packages (from nbconvert) (0.5.13)\n",
      "Requirement already satisfied: nbformat>=5.1 in /opt/conda/envs/anaconda-panel-2023.05-py310/lib/python3.11/site-packages (from nbconvert) (5.7.0)\n",
      "Requirement already satisfied: packaging in /opt/conda/envs/anaconda-panel-2023.05-py310/lib/python3.11/site-packages (from nbconvert) (23.0)\n",
      "Requirement already satisfied: pandocfilters>=1.4.1 in /opt/conda/envs/anaconda-panel-2023.05-py310/lib/python3.11/site-packages (from nbconvert) (1.5.0)\n",
      "Requirement already satisfied: pygments>=2.4.1 in /opt/conda/envs/anaconda-panel-2023.05-py310/lib/python3.11/site-packages (from nbconvert) (2.15.1)\n",
      "Requirement already satisfied: tinycss2 in /opt/conda/envs/anaconda-panel-2023.05-py310/lib/python3.11/site-packages (from nbconvert) (1.2.1)\n",
      "Requirement already satisfied: traitlets>=5.0 in /opt/conda/envs/anaconda-panel-2023.05-py310/lib/python3.11/site-packages (from nbconvert) (5.7.1)\n",
      "Requirement already satisfied: platformdirs>=2.5 in /opt/conda/envs/anaconda-panel-2023.05-py310/lib/python3.11/site-packages (from jupyter-core>=4.7->nbconvert) (2.5.2)\n",
      "Requirement already satisfied: jupyter-client>=6.1.5 in /opt/conda/envs/anaconda-panel-2023.05-py310/lib/python3.11/site-packages (from nbclient>=0.5.0->nbconvert) (8.1.0)\n",
      "Requirement already satisfied: nest-asyncio in /opt/conda/envs/anaconda-panel-2023.05-py310/lib/python3.11/site-packages (from nbclient>=0.5.0->nbconvert) (1.5.6)\n",
      "Requirement already satisfied: fastjsonschema in /opt/conda/envs/anaconda-panel-2023.05-py310/lib/python3.11/site-packages (from nbformat>=5.1->nbconvert) (2.16.2)\n",
      "Requirement already satisfied: jsonschema>=2.6 in /opt/conda/envs/anaconda-panel-2023.05-py310/lib/python3.11/site-packages (from nbformat>=5.1->nbconvert) (4.17.3)\n",
      "Requirement already satisfied: soupsieve>1.2 in /opt/conda/envs/anaconda-panel-2023.05-py310/lib/python3.11/site-packages (from beautifulsoup4->nbconvert) (2.4)\n",
      "Requirement already satisfied: six>=1.9.0 in /opt/conda/envs/anaconda-panel-2023.05-py310/lib/python3.11/site-packages (from bleach->nbconvert) (1.16.0)\n",
      "Requirement already satisfied: webencodings in /opt/conda/envs/anaconda-panel-2023.05-py310/lib/python3.11/site-packages (from bleach->nbconvert) (0.5.1)\n",
      "Requirement already satisfied: attrs>=17.4.0 in /opt/conda/envs/anaconda-panel-2023.05-py310/lib/python3.11/site-packages (from jsonschema>=2.6->nbformat>=5.1->nbconvert) (22.1.0)\n",
      "Requirement already satisfied: pyrsistent!=0.17.0,!=0.17.1,!=0.17.2,>=0.14.0 in /opt/conda/envs/anaconda-panel-2023.05-py310/lib/python3.11/site-packages (from jsonschema>=2.6->nbformat>=5.1->nbconvert) (0.18.0)\n",
      "Requirement already satisfied: python-dateutil>=2.8.2 in /opt/conda/envs/anaconda-panel-2023.05-py310/lib/python3.11/site-packages (from jupyter-client>=6.1.5->nbclient>=0.5.0->nbconvert) (2.8.2)\n",
      "Requirement already satisfied: pyzmq>=23.0 in /opt/conda/envs/anaconda-panel-2023.05-py310/lib/python3.11/site-packages (from jupyter-client>=6.1.5->nbclient>=0.5.0->nbconvert) (25.1.0)\n",
      "Requirement already satisfied: tornado>=6.2 in /opt/conda/envs/anaconda-panel-2023.05-py310/lib/python3.11/site-packages (from jupyter-client>=6.1.5->nbclient>=0.5.0->nbconvert) (6.2)\n"
     ]
    }
   ],
   "source": [
    "!pip install nbconvert"
   ]
  },
  {
   "cell_type": "code",
   "execution_count": 213,
   "id": "d6b9078f-00c4-42fb-a08e-46f85d2cb48a",
   "metadata": {},
   "outputs": [
    {
     "name": "stdout",
     "output_type": "stream",
     "text": [
      "[NbConvertApp] Converting notebook HW1.ipynb to pdf\n",
      "[NbConvertApp] Support files will be in HW1_files/\n",
      "[NbConvertApp] Making directory ./HW1_files\n",
      "[NbConvertApp] Making directory ./HW1_files\n",
      "[NbConvertApp] Making directory ./HW1_files\n",
      "[NbConvertApp] Writing 46606 bytes to notebook.tex\n",
      "[NbConvertApp] Building PDF\n",
      "[NbConvertApp] Running xelatex 3 times: ['xelatex', 'notebook.tex', '-quiet']\n",
      "[NbConvertApp] Running bibtex 1 time: ['bibtex', 'notebook']\n",
      "[NbConvertApp] WARNING | bibtex had problems, most likely because there were no citations\n",
      "[NbConvertApp] PDF successfully created\n",
      "[NbConvertApp] Writing 95182 bytes to HW1.pdf\n"
     ]
    }
   ],
   "source": [
    "!jupyter nbconvert --to pdf 'HW1.ipynb'"
   ]
  },
  {
   "cell_type": "code",
   "execution_count": null,
   "id": "71d5e04f-43b9-40f4-8f6b-62d3a194d1dc",
   "metadata": {},
   "outputs": [],
   "source": []
  }
 ],
 "metadata": {
  "kernelspec": {
   "display_name": "anaconda-panel-2023.05-py310",
   "language": "python",
   "name": "conda-env-anaconda-panel-2023.05-py310-py"
  },
  "language_info": {
   "codemirror_mode": {
    "name": "ipython",
    "version": 3
   },
   "file_extension": ".py",
   "mimetype": "text/x-python",
   "name": "python",
   "nbconvert_exporter": "python",
   "pygments_lexer": "ipython3",
   "version": "3.11.4"
  }
 },
 "nbformat": 4,
 "nbformat_minor": 5
}
