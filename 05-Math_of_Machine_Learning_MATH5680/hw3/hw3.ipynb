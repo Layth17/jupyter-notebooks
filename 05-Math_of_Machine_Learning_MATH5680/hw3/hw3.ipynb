{
 "cells": [
  {
   "cell_type": "code",
   "execution_count": 1,
   "metadata": {},
   "outputs": [],
   "source": [
    "import numpy as np\n",
    "import matplotlib.pyplot as plt\n",
    "import pandas as pd\n",
    "from   sklearn.linear_model import LogisticRegression\n",
    "from   sklearn.preprocessing import MinMaxScaler, LabelEncoder\n",
    "from   sklearn.model_selection import train_test_split\n",
    "from   sklearn.metrics import confusion_matrix, accuracy_score"
   ]
  },
  {
   "cell_type": "markdown",
   "metadata": {},
   "source": [
    "## Problem 1"
   ]
  },
  {
   "cell_type": "markdown",
   "metadata": {},
   "source": [
    "The file caesarian data.txt contains 80 records; each record lists 5 features used by a doctor to\n",
    "determine whether or not to recommend that a baby be delivered by Caesarian section\n"
   ]
  },
  {
   "cell_type": "markdown",
   "metadata": {},
   "source": [
    "- **age**: patient’s age in years;\n",
    "- **num**: number of previous deliveries by patient;\n",
    "- **tim**: delivery date (0=timely, 1 = premature, 2 = late);\n",
    "- **pre**: blood pressure (0=low, 1=normal, 2=high);\n",
    "- **hrt**: heart (0=healthy, 1=unhealthy);\n",
    "- **cae**: decision (0=normal delivery, 1=use Caesarian);"
   ]
  },
  {
   "cell_type": "markdown",
   "metadata": {},
   "source": [
    "Use features “age”, “num”, and “hrt” to perform the following tasks:"
   ]
  },
  {
   "cell_type": "markdown",
   "metadata": {},
   "source": [
    "#### Setup"
   ]
  },
  {
   "cell_type": "code",
   "execution_count": 2,
   "metadata": {},
   "outputs": [
    {
     "data": {
      "text/html": [
       "<div>\n",
       "<style scoped>\n",
       "    .dataframe tbody tr th:only-of-type {\n",
       "        vertical-align: middle;\n",
       "    }\n",
       "\n",
       "    .dataframe tbody tr th {\n",
       "        vertical-align: top;\n",
       "    }\n",
       "\n",
       "    .dataframe thead th {\n",
       "        text-align: right;\n",
       "    }\n",
       "</style>\n",
       "<table border=\"1\" class=\"dataframe\">\n",
       "  <thead>\n",
       "    <tr style=\"text-align: right;\">\n",
       "      <th></th>\n",
       "      <th>age</th>\n",
       "      <th>num</th>\n",
       "      <th>tim</th>\n",
       "      <th>pre</th>\n",
       "      <th>hrt</th>\n",
       "      <th>cae</th>\n",
       "    </tr>\n",
       "  </thead>\n",
       "  <tbody>\n",
       "    <tr>\n",
       "      <th>0</th>\n",
       "      <td>22</td>\n",
       "      <td>1</td>\n",
       "      <td>0</td>\n",
       "      <td>2</td>\n",
       "      <td>0</td>\n",
       "      <td>0</td>\n",
       "    </tr>\n",
       "    <tr>\n",
       "      <th>1</th>\n",
       "      <td>26</td>\n",
       "      <td>2</td>\n",
       "      <td>0</td>\n",
       "      <td>1</td>\n",
       "      <td>0</td>\n",
       "      <td>1</td>\n",
       "    </tr>\n",
       "    <tr>\n",
       "      <th>2</th>\n",
       "      <td>26</td>\n",
       "      <td>2</td>\n",
       "      <td>1</td>\n",
       "      <td>1</td>\n",
       "      <td>0</td>\n",
       "      <td>0</td>\n",
       "    </tr>\n",
       "    <tr>\n",
       "      <th>3</th>\n",
       "      <td>28</td>\n",
       "      <td>1</td>\n",
       "      <td>0</td>\n",
       "      <td>2</td>\n",
       "      <td>0</td>\n",
       "      <td>0</td>\n",
       "    </tr>\n",
       "    <tr>\n",
       "      <th>4</th>\n",
       "      <td>22</td>\n",
       "      <td>2</td>\n",
       "      <td>0</td>\n",
       "      <td>1</td>\n",
       "      <td>0</td>\n",
       "      <td>1</td>\n",
       "    </tr>\n",
       "  </tbody>\n",
       "</table>\n",
       "</div>"
      ],
      "text/plain": [
       "   age  num  tim  pre  hrt  cae\n",
       "0   22    1    0    2    0    0\n",
       "1   26    2    0    1    0    1\n",
       "2   26    2    1    1    0    0\n",
       "3   28    1    0    2    0    0\n",
       "4   22    2    0    1    0    1"
      ]
     },
     "execution_count": 2,
     "metadata": {},
     "output_type": "execute_result"
    }
   ],
   "source": [
    "data = pd.read_csv(\"./caesarian_data.txt\", \n",
    "                   delimiter=\" \", \n",
    "                   header=None,\n",
    "                   names=[\"age\", \"num\", \"tim\", \"pre\", \"hrt\", \"cae\"])\n",
    "data.head()"
   ]
  },
  {
   "cell_type": "code",
   "execution_count": 3,
   "metadata": {},
   "outputs": [
    {
     "data": {
      "text/html": [
       "<div>\n",
       "<style scoped>\n",
       "    .dataframe tbody tr th:only-of-type {\n",
       "        vertical-align: middle;\n",
       "    }\n",
       "\n",
       "    .dataframe tbody tr th {\n",
       "        vertical-align: top;\n",
       "    }\n",
       "\n",
       "    .dataframe thead th {\n",
       "        text-align: right;\n",
       "    }\n",
       "</style>\n",
       "<table border=\"1\" class=\"dataframe\">\n",
       "  <thead>\n",
       "    <tr style=\"text-align: right;\">\n",
       "      <th></th>\n",
       "      <th>age</th>\n",
       "      <th>num</th>\n",
       "      <th>tim</th>\n",
       "      <th>pre</th>\n",
       "      <th>hrt</th>\n",
       "      <th>cae</th>\n",
       "    </tr>\n",
       "  </thead>\n",
       "  <tbody>\n",
       "    <tr>\n",
       "      <th>count</th>\n",
       "      <td>80.000000</td>\n",
       "      <td>80.000000</td>\n",
       "      <td>80.000000</td>\n",
       "      <td>80.000000</td>\n",
       "      <td>80.000000</td>\n",
       "      <td>80.000000</td>\n",
       "    </tr>\n",
       "    <tr>\n",
       "      <th>mean</th>\n",
       "      <td>27.687500</td>\n",
       "      <td>1.662500</td>\n",
       "      <td>0.637500</td>\n",
       "      <td>1.000000</td>\n",
       "      <td>0.375000</td>\n",
       "      <td>0.575000</td>\n",
       "    </tr>\n",
       "    <tr>\n",
       "      <th>std</th>\n",
       "      <td>5.017927</td>\n",
       "      <td>0.794662</td>\n",
       "      <td>0.815107</td>\n",
       "      <td>0.711568</td>\n",
       "      <td>0.487177</td>\n",
       "      <td>0.497462</td>\n",
       "    </tr>\n",
       "    <tr>\n",
       "      <th>min</th>\n",
       "      <td>17.000000</td>\n",
       "      <td>1.000000</td>\n",
       "      <td>0.000000</td>\n",
       "      <td>0.000000</td>\n",
       "      <td>0.000000</td>\n",
       "      <td>0.000000</td>\n",
       "    </tr>\n",
       "    <tr>\n",
       "      <th>25%</th>\n",
       "      <td>25.000000</td>\n",
       "      <td>1.000000</td>\n",
       "      <td>0.000000</td>\n",
       "      <td>0.750000</td>\n",
       "      <td>0.000000</td>\n",
       "      <td>0.000000</td>\n",
       "    </tr>\n",
       "    <tr>\n",
       "      <th>50%</th>\n",
       "      <td>27.000000</td>\n",
       "      <td>1.000000</td>\n",
       "      <td>0.000000</td>\n",
       "      <td>1.000000</td>\n",
       "      <td>0.000000</td>\n",
       "      <td>1.000000</td>\n",
       "    </tr>\n",
       "    <tr>\n",
       "      <th>75%</th>\n",
       "      <td>32.000000</td>\n",
       "      <td>2.000000</td>\n",
       "      <td>1.000000</td>\n",
       "      <td>1.250000</td>\n",
       "      <td>1.000000</td>\n",
       "      <td>1.000000</td>\n",
       "    </tr>\n",
       "    <tr>\n",
       "      <th>max</th>\n",
       "      <td>40.000000</td>\n",
       "      <td>4.000000</td>\n",
       "      <td>2.000000</td>\n",
       "      <td>2.000000</td>\n",
       "      <td>1.000000</td>\n",
       "      <td>1.000000</td>\n",
       "    </tr>\n",
       "  </tbody>\n",
       "</table>\n",
       "</div>"
      ],
      "text/plain": [
       "             age        num        tim        pre        hrt        cae\n",
       "count  80.000000  80.000000  80.000000  80.000000  80.000000  80.000000\n",
       "mean   27.687500   1.662500   0.637500   1.000000   0.375000   0.575000\n",
       "std     5.017927   0.794662   0.815107   0.711568   0.487177   0.497462\n",
       "min    17.000000   1.000000   0.000000   0.000000   0.000000   0.000000\n",
       "25%    25.000000   1.000000   0.000000   0.750000   0.000000   0.000000\n",
       "50%    27.000000   1.000000   0.000000   1.000000   0.000000   1.000000\n",
       "75%    32.000000   2.000000   1.000000   1.250000   1.000000   1.000000\n",
       "max    40.000000   4.000000   2.000000   2.000000   1.000000   1.000000"
      ]
     },
     "execution_count": 3,
     "metadata": {},
     "output_type": "execute_result"
    }
   ],
   "source": [
    "data.describe()"
   ]
  },
  {
   "cell_type": "code",
   "execution_count": 4,
   "metadata": {},
   "outputs": [
    {
     "data": {
      "text/html": [
       "<div>\n",
       "<style scoped>\n",
       "    .dataframe tbody tr th:only-of-type {\n",
       "        vertical-align: middle;\n",
       "    }\n",
       "\n",
       "    .dataframe tbody tr th {\n",
       "        vertical-align: top;\n",
       "    }\n",
       "\n",
       "    .dataframe thead th {\n",
       "        text-align: right;\n",
       "    }\n",
       "</style>\n",
       "<table border=\"1\" class=\"dataframe\">\n",
       "  <thead>\n",
       "    <tr style=\"text-align: right;\">\n",
       "      <th></th>\n",
       "      <th>age</th>\n",
       "      <th>num</th>\n",
       "      <th>hrt</th>\n",
       "    </tr>\n",
       "  </thead>\n",
       "  <tbody>\n",
       "    <tr>\n",
       "      <th>0</th>\n",
       "      <td>22</td>\n",
       "      <td>1</td>\n",
       "      <td>0</td>\n",
       "    </tr>\n",
       "    <tr>\n",
       "      <th>1</th>\n",
       "      <td>26</td>\n",
       "      <td>2</td>\n",
       "      <td>0</td>\n",
       "    </tr>\n",
       "    <tr>\n",
       "      <th>2</th>\n",
       "      <td>26</td>\n",
       "      <td>2</td>\n",
       "      <td>0</td>\n",
       "    </tr>\n",
       "    <tr>\n",
       "      <th>3</th>\n",
       "      <td>28</td>\n",
       "      <td>1</td>\n",
       "      <td>0</td>\n",
       "    </tr>\n",
       "    <tr>\n",
       "      <th>4</th>\n",
       "      <td>22</td>\n",
       "      <td>2</td>\n",
       "      <td>0</td>\n",
       "    </tr>\n",
       "  </tbody>\n",
       "</table>\n",
       "</div>"
      ],
      "text/plain": [
       "   age  num  hrt\n",
       "0   22    1    0\n",
       "1   26    2    0\n",
       "2   26    2    0\n",
       "3   28    1    0\n",
       "4   22    2    0"
      ]
     },
     "execution_count": 4,
     "metadata": {},
     "output_type": "execute_result"
    }
   ],
   "source": [
    "# Select the features that the problem specified\n",
    "features = data[[\"age\", \"num\", \"hrt\"]]\n",
    "features.head(5)"
   ]
  },
  {
   "cell_type": "markdown",
   "metadata": {},
   "source": [
    "#### (a) Perform the Logistic Regression (note normalize data first). What are the learned model parameters?"
   ]
  },
  {
   "cell_type": "code",
   "execution_count": 5,
   "metadata": {},
   "outputs": [
    {
     "name": "stdout",
     "output_type": "stream",
     "text": [
      "Example head of features matrix X: \n",
      "[[0.2173913  0.         0.        ]\n",
      " [0.39130435 0.33333333 0.        ]\n",
      " [0.39130435 0.33333333 0.        ]\n",
      " [0.47826087 0.         0.        ]\n",
      " [0.2173913  0.33333333 0.        ]]\n",
      "\n",
      "Example head of labels vector y: \n",
      "[0 1 0 0 1]\n"
     ]
    }
   ],
   "source": [
    "# Normalizing data using MinMax\n",
    "scaler = MinMaxScaler().fit(features)\n",
    "X = scaler.transform(features)\n",
    "y = data[\"cae\"].to_numpy()\n",
    "\n",
    "print(f\"Example head of features matrix X: \\n{X[:5]}\\n\")\n",
    "print(f\"Example head of labels vector y: \\n{y[:5]}\")"
   ]
  },
  {
   "cell_type": "code",
   "execution_count": 6,
   "metadata": {},
   "outputs": [
    {
     "name": "stdout",
     "output_type": "stream",
     "text": [
      "trained model parameters are:\n",
      "[[0.04524739 0.13766913 1.13222396]] [-0.18050479]\n"
     ]
    }
   ],
   "source": [
    "x_train, x_test, y_train, y_test = train_test_split(X, y, test_size=0.2, shuffle=True, random_state=42)\n",
    "model = LogisticRegression()\n",
    "model.fit(x_train, y_train)\n",
    "a = model.coef_\n",
    "b = model.intercept_\n",
    "\n",
    "print(\"trained model parameters are:\")\n",
    "print(a, b)"
   ]
  },
  {
   "cell_type": "markdown",
   "metadata": {},
   "source": [
    "#### (b) Evaluate the performance of your Logistic Regression classifier by using the metrics discussed in class."
   ]
  },
  {
   "cell_type": "code",
   "execution_count": 7,
   "metadata": {},
   "outputs": [
    {
     "name": "stdout",
     "output_type": "stream",
     "text": [
      "Printing first few:\n",
      "Actual class\tPredicted class\t\tPredicted probabilities\n",
      "0\t\t1\t\t\t[0.25483151 0.74516849]\n",
      "1\t\t0\t\t\t[0.54402823 0.45597177]\n",
      "0\t\t0\t\t\t[0.52968426 0.47031574]\n",
      "1\t\t1\t\t\t[0.27460314 0.72539686]\n",
      "1\t\t0\t\t\t[0.54012155 0.45987845]\n",
      "0\t\t1\t\t\t[0.27303843 0.72696157]\n",
      "0\t\t0\t\t\t[0.54061017 0.45938983]\n",
      "1\t\t1\t\t\t[0.26364321 0.73635679]\n",
      "1\t\t0\t\t\t[0.52919415 0.47080585]\n",
      "1\t\t0\t\t\t[0.52625231 0.47374769]\n"
     ]
    }
   ],
   "source": [
    "y_predict       = model.predict(x_train)\n",
    "y_predict_prob  = model.predict_proba(x_train)\n",
    "\n",
    "print(f\"Printing first few:\")\n",
    "print(f\"Actual class\\tPredicted class\\t\\tPredicted probabilities\")\n",
    "for n in range(0, 10):\n",
    "    print(f\"{y_train[n]}\\t\\t{y_predict[n]}\\t\\t\\t{y_predict_prob[n]}\")"
   ]
  },
  {
   "cell_type": "markdown",
   "metadata": {},
   "source": [
    "![Alt text](image.png)"
   ]
  },
  {
   "cell_type": "code",
   "execution_count": 8,
   "metadata": {},
   "outputs": [
    {
     "name": "stdout",
     "output_type": "stream",
     "text": [
      "Accuracy for training data (R^2):  0.640625 \n",
      "\n",
      "Confusion matrix for training data:\n",
      " [[23  5]\n",
      " [18 18]] \n",
      "\n",
      "Accuracy for test data (R^2):  0.6875 \n",
      "\n",
      "Confusion matrix for test data:\n",
      " [[5 1]\n",
      " [4 6]] \n",
      "\n"
     ]
    }
   ],
   "source": [
    "ypred_train        = model.predict(x_train)\n",
    "accuracy_train     = accuracy_score(y_train, ypred_train)\n",
    "conf_matrix_train  = confusion_matrix(y_train, ypred_train)\n",
    "print('Accuracy for training data (R^2): ', accuracy_train, '\\n')\n",
    "print('Confusion matrix for training data:\\n', conf_matrix_train, '\\n')\n",
    "\n",
    "ypred_test         = model.predict(x_test)\n",
    "accuracy_test      = accuracy_score(y_test,ypred_test)\n",
    "conf_matrix_test   = confusion_matrix(y_test, ypred_test)\n",
    "print('Accuracy for test data (R^2): ', accuracy_test, '\\n')\n",
    "print('Confusion matrix for test data:\\n', conf_matrix_test, '\\n')"
   ]
  },
  {
   "cell_type": "markdown",
   "metadata": {},
   "source": [
    "pretty bad ..."
   ]
  },
  {
   "cell_type": "markdown",
   "metadata": {},
   "source": [
    "#### (c) How does the hyperparameter of l2 penalty affect the performance of your classifier?"
   ]
  },
  {
   "cell_type": "code",
   "execution_count": 9,
   "metadata": {},
   "outputs": [
    {
     "name": "stdout",
     "output_type": "stream",
     "text": [
      "trained model parameters are:\n",
      "[[0.04275134 0.08657218 0.73315448]] [-0.04122827]\n"
     ]
    }
   ],
   "source": [
    "model2 = LogisticRegression(penalty=\"l2\", C=0.3)\n",
    "model2.fit(x_train, y_train)\n",
    "a = model2.coef_\n",
    "b = model2.intercept_\n",
    "\n",
    "print(\"trained model parameters are:\")\n",
    "print(a, b)"
   ]
  },
  {
   "cell_type": "code",
   "execution_count": 10,
   "metadata": {},
   "outputs": [
    {
     "name": "stdout",
     "output_type": "stream",
     "text": [
      "Accuracy for training data (R^2):  0.59375 \n",
      "\n",
      "Confusion matrix for training data:\n",
      " [[12 16]\n",
      " [10 26]] \n",
      "\n",
      "Accuracy for test data (R^2):  0.75 \n",
      "\n",
      "Confusion matrix for test data:\n",
      " [[5 1]\n",
      " [3 7]] \n",
      "\n"
     ]
    }
   ],
   "source": [
    "ypred_train        = model2.predict(x_train)\n",
    "accuracy_train     = accuracy_score(y_train, ypred_train)\n",
    "conf_matrix_train  = confusion_matrix(y_train, ypred_train)\n",
    "print('Accuracy for training data (R^2): ', accuracy_train, '\\n')\n",
    "print('Confusion matrix for training data:\\n', conf_matrix_train, '\\n')\n",
    "\n",
    "ypred_test         = model2.predict(x_test)\n",
    "accuracy_test      = accuracy_score(y_test,ypred_test)\n",
    "conf_matrix_test   = confusion_matrix(y_test, ypred_test)\n",
    "print('Accuracy for test data (R^2): ', accuracy_test, '\\n')\n",
    "print('Confusion matrix for test data:\\n', conf_matrix_test, '\\n')"
   ]
  },
  {
   "cell_type": "markdown",
   "metadata": {},
   "source": [
    "C value of .9 and above seem to yeild the same results as before. But once I go lower than that, the results start to differ. In this case, I chose a C of 0.3, and it looks like the accracy for testing sample got better but the training data accuracy dropped about 5%."
   ]
  },
  {
   "cell_type": "markdown",
   "metadata": {},
   "source": [
    "#### (d) What is the threshold used in logistic regression? How does the model perform if we set the threshold of estimated probability to 0.6 in part (a) for Caesarian?"
   ]
  },
  {
   "cell_type": "markdown",
   "metadata": {},
   "source": [
    "By deafult, the threshold is 0.5"
   ]
  },
  {
   "cell_type": "code",
   "execution_count": 11,
   "metadata": {},
   "outputs": [
    {
     "name": "stdout",
     "output_type": "stream",
     "text": [
      "Accuracy for training data (R^2):  0.640625 \n",
      "\n",
      "Confusion matrix for training data:\n",
      " [[23  5]\n",
      " [18 18]] \n",
      "\n",
      "Accuracy for test data (R^2):  0.6875 \n",
      "\n",
      "Confusion matrix for test data:\n",
      " [[5 1]\n",
      " [4 6]] \n",
      "\n"
     ]
    }
   ],
   "source": [
    "threshold = 0.6\n",
    "\n",
    "ypred_train_new = (model.predict_proba(x_train)[:, 1] >= threshold).astype(int)\n",
    "accuracy_train = accuracy_score(y_train, ypred_train_new)\n",
    "conf_matrix_train  = confusion_matrix(y_train, ypred_train_new)\n",
    "print('Accuracy for training data (R^2): ', accuracy_train, '\\n')\n",
    "print('Confusion matrix for training data:\\n', conf_matrix_train, '\\n')\n",
    "\n",
    "\n",
    "ypred_test_new     = (model.predict_proba(x_test)[:, 1] >= threshold).astype(int)\n",
    "accuracy_test      = accuracy_score(y_test,ypred_test_new)\n",
    "conf_matrix_test   = confusion_matrix(y_test, ypred_test_new)\n",
    "print('Accuracy for test data (R^2): ', accuracy_test, '\\n')\n",
    "print('Confusion matrix for test data:\\n', conf_matrix_test, '\\n')"
   ]
  },
  {
   "cell_type": "markdown",
   "metadata": {},
   "source": [
    "In my case of increasing the threshold to 0.6, there is no difference. That is because ALL of those classified as 1 are already at 0.7+ probability. In the following cell, I try to do .73 and we can see now that we get different results."
   ]
  },
  {
   "cell_type": "code",
   "execution_count": 12,
   "metadata": {},
   "outputs": [
    {
     "name": "stdout",
     "output_type": "stream",
     "text": [
      "Accuracy for training data (R^2):  0.546875 \n",
      "\n",
      "Confusion matrix for training data:\n",
      " [[25  3]\n",
      " [26 10]] \n",
      "\n",
      "Accuracy for test data (R^2):  0.625 \n",
      "\n",
      "Confusion matrix for test data:\n",
      " [[5 1]\n",
      " [5 5]] \n",
      "\n"
     ]
    }
   ],
   "source": [
    "threshold = 0.73\n",
    "\n",
    "ypred_train_new = (model.predict_proba(x_train)[:, 1] >= threshold).astype(int)\n",
    "accuracy_train = accuracy_score(y_train, ypred_train_new)\n",
    "conf_matrix_train  = confusion_matrix(y_train, ypred_train_new)\n",
    "print('Accuracy for training data (R^2): ', accuracy_train, '\\n')\n",
    "print('Confusion matrix for training data:\\n', conf_matrix_train, '\\n')\n",
    "\n",
    "\n",
    "ypred_test_new     = (model.predict_proba(x_test)[:, 1] >= threshold).astype(int)\n",
    "accuracy_test      = accuracy_score(y_test,ypred_test_new)\n",
    "conf_matrix_test   = confusion_matrix(y_test, ypred_test_new)\n",
    "print('Accuracy for test data (R^2): ', accuracy_test, '\\n')\n",
    "print('Confusion matrix for test data:\\n', conf_matrix_test, '\\n')"
   ]
  },
  {
   "cell_type": "markdown",
   "metadata": {},
   "source": [
    "## Problem 2. \n",
    "\n",
    "The file iris.csv contains the data for three different species of iris flowers. Use features “petal length” and “petal width” to perform the following tasks"
   ]
  },
  {
   "cell_type": "markdown",
   "metadata": {},
   "source": [
    "#### Setup"
   ]
  },
  {
   "cell_type": "code",
   "execution_count": 13,
   "metadata": {},
   "outputs": [
    {
     "data": {
      "text/html": [
       "<div>\n",
       "<style scoped>\n",
       "    .dataframe tbody tr th:only-of-type {\n",
       "        vertical-align: middle;\n",
       "    }\n",
       "\n",
       "    .dataframe tbody tr th {\n",
       "        vertical-align: top;\n",
       "    }\n",
       "\n",
       "    .dataframe thead th {\n",
       "        text-align: right;\n",
       "    }\n",
       "</style>\n",
       "<table border=\"1\" class=\"dataframe\">\n",
       "  <thead>\n",
       "    <tr style=\"text-align: right;\">\n",
       "      <th></th>\n",
       "      <th>sepal_length</th>\n",
       "      <th>sepal_width</th>\n",
       "      <th>petal_length</th>\n",
       "      <th>petal_width</th>\n",
       "      <th>species</th>\n",
       "    </tr>\n",
       "  </thead>\n",
       "  <tbody>\n",
       "    <tr>\n",
       "      <th>0</th>\n",
       "      <td>5.1</td>\n",
       "      <td>3.5</td>\n",
       "      <td>1.4</td>\n",
       "      <td>0.2</td>\n",
       "      <td>setosa</td>\n",
       "    </tr>\n",
       "    <tr>\n",
       "      <th>1</th>\n",
       "      <td>4.9</td>\n",
       "      <td>3.0</td>\n",
       "      <td>1.4</td>\n",
       "      <td>0.2</td>\n",
       "      <td>setosa</td>\n",
       "    </tr>\n",
       "    <tr>\n",
       "      <th>2</th>\n",
       "      <td>4.7</td>\n",
       "      <td>3.2</td>\n",
       "      <td>1.3</td>\n",
       "      <td>0.2</td>\n",
       "      <td>setosa</td>\n",
       "    </tr>\n",
       "    <tr>\n",
       "      <th>3</th>\n",
       "      <td>4.6</td>\n",
       "      <td>3.1</td>\n",
       "      <td>1.5</td>\n",
       "      <td>0.2</td>\n",
       "      <td>setosa</td>\n",
       "    </tr>\n",
       "    <tr>\n",
       "      <th>4</th>\n",
       "      <td>5.0</td>\n",
       "      <td>3.6</td>\n",
       "      <td>1.4</td>\n",
       "      <td>0.2</td>\n",
       "      <td>setosa</td>\n",
       "    </tr>\n",
       "    <tr>\n",
       "      <th>...</th>\n",
       "      <td>...</td>\n",
       "      <td>...</td>\n",
       "      <td>...</td>\n",
       "      <td>...</td>\n",
       "      <td>...</td>\n",
       "    </tr>\n",
       "    <tr>\n",
       "      <th>145</th>\n",
       "      <td>6.7</td>\n",
       "      <td>3.0</td>\n",
       "      <td>5.2</td>\n",
       "      <td>2.3</td>\n",
       "      <td>virginica</td>\n",
       "    </tr>\n",
       "    <tr>\n",
       "      <th>146</th>\n",
       "      <td>6.3</td>\n",
       "      <td>2.5</td>\n",
       "      <td>5.0</td>\n",
       "      <td>1.9</td>\n",
       "      <td>virginica</td>\n",
       "    </tr>\n",
       "    <tr>\n",
       "      <th>147</th>\n",
       "      <td>6.5</td>\n",
       "      <td>3.0</td>\n",
       "      <td>5.2</td>\n",
       "      <td>2.0</td>\n",
       "      <td>virginica</td>\n",
       "    </tr>\n",
       "    <tr>\n",
       "      <th>148</th>\n",
       "      <td>6.2</td>\n",
       "      <td>3.4</td>\n",
       "      <td>5.4</td>\n",
       "      <td>2.3</td>\n",
       "      <td>virginica</td>\n",
       "    </tr>\n",
       "    <tr>\n",
       "      <th>149</th>\n",
       "      <td>5.9</td>\n",
       "      <td>3.0</td>\n",
       "      <td>5.1</td>\n",
       "      <td>1.8</td>\n",
       "      <td>virginica</td>\n",
       "    </tr>\n",
       "  </tbody>\n",
       "</table>\n",
       "<p>150 rows × 5 columns</p>\n",
       "</div>"
      ],
      "text/plain": [
       "     sepal_length  sepal_width  petal_length  petal_width    species\n",
       "0             5.1          3.5           1.4          0.2     setosa\n",
       "1             4.9          3.0           1.4          0.2     setosa\n",
       "2             4.7          3.2           1.3          0.2     setosa\n",
       "3             4.6          3.1           1.5          0.2     setosa\n",
       "4             5.0          3.6           1.4          0.2     setosa\n",
       "..            ...          ...           ...          ...        ...\n",
       "145           6.7          3.0           5.2          2.3  virginica\n",
       "146           6.3          2.5           5.0          1.9  virginica\n",
       "147           6.5          3.0           5.2          2.0  virginica\n",
       "148           6.2          3.4           5.4          2.3  virginica\n",
       "149           5.9          3.0           5.1          1.8  virginica\n",
       "\n",
       "[150 rows x 5 columns]"
      ]
     },
     "execution_count": 13,
     "metadata": {},
     "output_type": "execute_result"
    }
   ],
   "source": [
    "iris = pd.read_csv(\"./iris.csv\")\n",
    "iris"
   ]
  },
  {
   "cell_type": "code",
   "execution_count": 14,
   "metadata": {},
   "outputs": [
    {
     "name": "stdout",
     "output_type": "stream",
     "text": [
      "Example head of features matrix X: \n",
      "[[0.06779661 0.04166667]\n",
      " [0.06779661 0.04166667]\n",
      " [0.05084746 0.04166667]\n",
      " [0.08474576 0.04166667]\n",
      " [0.06779661 0.04166667]]\n",
      "\n",
      "Example head of labels vector y  (we need to use this): \n",
      "['setosa' 'setosa' 'setosa' 'setosa' 'setosa']\n",
      "\n",
      "Example head of labels vector y1 (As opposed to this): \n",
      "[['setosa']\n",
      " ['setosa']\n",
      " ['setosa']\n",
      " ['setosa']\n",
      " ['setosa']]\n"
     ]
    }
   ],
   "source": [
    "features = iris[[\"petal_length\", \"petal_width\"]]\n",
    "scaler = MinMaxScaler().fit(features)\n",
    "X = scaler.transform(features)\n",
    "y = iris[[\"species\"]].to_numpy().ravel()\n",
    "y1 = iris[[\"species\"]].to_numpy()\n",
    "\n",
    "\n",
    "print(f\"Example head of features matrix X: \\n{X[:5]}\\n\")\n",
    "print(f\"Example head of labels vector y  (we need to use this): \\n{y[:5]}\\n\")\n",
    "print(f\"Example head of labels vector y1 (As opposed to this): \\n{y1[:5]}\")"
   ]
  },
  {
   "cell_type": "code",
   "execution_count": 15,
   "metadata": {},
   "outputs": [
    {
     "data": {
      "text/plain": [
       "array([0, 0, 0, 0, 0, 0, 0, 0, 0, 0, 0, 0, 0, 0, 0, 0, 0, 0, 0, 0, 0, 0,\n",
       "       0, 0, 0, 0, 0, 0, 0, 0, 0, 0, 0, 0, 0, 0, 0, 0, 0, 0, 0, 0, 0, 0,\n",
       "       0, 0, 0, 0, 0, 0, 1, 1, 1, 1, 1, 1, 1, 1, 1, 1, 1, 1, 1, 1, 1, 1,\n",
       "       1, 1, 1, 1, 1, 1, 1, 1, 1, 1, 1, 1, 1, 1, 1, 1, 1, 1, 1, 1, 1, 1,\n",
       "       1, 1, 1, 1, 1, 1, 1, 1, 1, 1, 1, 1, 2, 2, 2, 2, 2, 2, 2, 2, 2, 2,\n",
       "       2, 2, 2, 2, 2, 2, 2, 2, 2, 2, 2, 2, 2, 2, 2, 2, 2, 2, 2, 2, 2, 2,\n",
       "       2, 2, 2, 2, 2, 2, 2, 2, 2, 2, 2, 2, 2, 2, 2, 2, 2, 2])"
      ]
     },
     "execution_count": 15,
     "metadata": {},
     "output_type": "execute_result"
    }
   ],
   "source": [
    "# Encode the target labels\n",
    "labelEncoder = LabelEncoder()\n",
    "y_encoded = labelEncoder.fit_transform(y)\n",
    "y_encoded"
   ]
  },
  {
   "cell_type": "markdown",
   "metadata": {},
   "source": [
    "#### (a) Use the one-versus-the-rest strategy to classify the iris flowers. Evaluate the performance of your classifier."
   ]
  },
  {
   "cell_type": "markdown",
   "metadata": {},
   "source": [
    "One-versus-rest (OvR)"
   ]
  },
  {
   "cell_type": "code",
   "execution_count": 16,
   "metadata": {},
   "outputs": [
    {
     "name": "stdout",
     "output_type": "stream",
     "text": [
      "trained model parameters are:\n",
      "Model Coef: [[-3.59018237 -3.4457668 ]\n",
      " [ 1.1397102  -0.07786512]\n",
      " [ 2.7747137   3.40510757]]\n",
      "Model intercept: [ 1.93300185 -1.16363257 -4.13259285]\n"
     ]
    }
   ],
   "source": [
    "x_train, x_test, y_train, y_test = train_test_split(X, y, test_size=0.2, shuffle=True, random_state=42)\n",
    "ovr_model = LogisticRegression(multi_class='ovr')\n",
    "ovr_model.fit(x_train, y_train)\n",
    "a = ovr_model.coef_\n",
    "b = ovr_model.intercept_\n",
    "\n",
    "print(\"trained model parameters are:\")\n",
    "print(f\"Model Coef: {a}\")\n",
    "print(f\"Model intercept: {b}\")"
   ]
  },
  {
   "cell_type": "code",
   "execution_count": 17,
   "metadata": {},
   "outputs": [
    {
     "name": "stdout",
     "output_type": "stream",
     "text": [
      "Accuracy for training data (R^2):  0.9 \n",
      "\n",
      "Confusion matrix for training data:\n",
      " [[40  0  0]\n",
      " [ 1 29 11]\n",
      " [ 0  0 39]] \n",
      "\n",
      "Accuracy for test data (R^2):  0.9 \n",
      "\n",
      "Confusion matrix for test data:\n",
      " [[10  0  0]\n",
      " [ 0  6  3]\n",
      " [ 0  0 11]] \n",
      "\n"
     ]
    }
   ],
   "source": [
    "ypred_train        = ovr_model.predict(x_train)\n",
    "accuracy_train     = accuracy_score(y_train, ypred_train)\n",
    "conf_matrix_train  = confusion_matrix(y_train, ypred_train)\n",
    "print('Accuracy for training data (R^2): ', accuracy_train, '\\n')\n",
    "print('Confusion matrix for training data:\\n', conf_matrix_train, '\\n')\n",
    "\n",
    "ypred_test         = ovr_model.predict(x_test)\n",
    "accuracy_test      = accuracy_score(y_test,ypred_test)\n",
    "conf_matrix_test   = confusion_matrix(y_test, ypred_test)\n",
    "print('Accuracy for test data (R^2): ', accuracy_test, '\\n')\n",
    "print('Confusion matrix for test data:\\n', conf_matrix_test, '\\n')"
   ]
  },
  {
   "cell_type": "code",
   "execution_count": 18,
   "metadata": {},
   "outputs": [
    {
     "name": "stdout",
     "output_type": "stream",
     "text": [
      "Printing first few:\n",
      "features\t\tActual class\tPredicted class\t\tPredicted probabilities\n",
      "[0.         0.04166667]\tsetosa\t\tsetosa\t\t\t[0.77025847 0.21342499 0.01631654]\n",
      "[0.08474576 0.125     ]\tsetosa\t\tsetosa\t\t\t[0.7299155  0.24145978 0.02862472]\n",
      "[0.57627119 0.54166667]\tversicolor\t\tversicolor\t\t\t[0.14519655 0.44685389 0.40794956]\n",
      "[0.10169492 0.04166667]\tsetosa\t\tsetosa\t\t\t[0.74015615 0.23787211 0.02197173]\n",
      "[0.05084746 0.04166667]\tsetosa\t\tsetosa\t\t\t[0.7559515  0.22513198 0.01891652]\n",
      "[0.6779661 0.75     ]\tvirginica\t\tvirginica\t\t\t[0.04335764 0.38632472 0.57031764]\n",
      "[0.59322034 0.58333333]\tversicolor\t\tvirginica\t\t\t[0.11712667 0.43691736 0.44595597]\n",
      "[0.08474576 0.04166667]\tsetosa\t\tsetosa\t\t\t[0.74559964 0.23350271 0.02089765]\n",
      "[0.06779661 0.04166667]\tsetosa\t\tsetosa\t\t\t[0.75086207 0.2292576  0.01988033]\n",
      "[0.08474576 0.        ]\tsetosa\t\tsetosa\t\t\t[0.75189615 0.23021479 0.01788905]\n"
     ]
    }
   ],
   "source": [
    "y_predict       = ovr_model.predict(x_train)\n",
    "y_predict_prob  = ovr_model.predict_proba(x_train)\n",
    "\n",
    "print(f\"Printing first few:\")\n",
    "print(f\"features\\t\\tActual class\\tPredicted class\\t\\tPredicted probabilities\")\n",
    "for n in range(0, 10):\n",
    "    output = f\"{x_train[n]}\\t{y_train[n]}\\t\\t{y_predict[n]}\\t\\t\\t{y_predict_prob[n]}\"\n",
    "    print(output)"
   ]
  },
  {
   "cell_type": "markdown",
   "metadata": {},
   "source": [
    "#### (b) Use the softmax regression to classify the iris flowers. Evaluate the performance of your classifier."
   ]
  },
  {
   "cell_type": "markdown",
   "metadata": {},
   "source": [
    "From [Docs](https://scikit-learn.org/stable/modules/generated/sklearn.linear_model.LogisticRegression.html): For a multi_class problem, if multi_class is set to be “multinomial” the softmax function is used to find the predicted probability of each class."
   ]
  },
  {
   "cell_type": "code",
   "execution_count": 19,
   "metadata": {},
   "outputs": [
    {
     "name": "stdout",
     "output_type": "stream",
     "text": [
      "trained model parameters are:\n",
      "Model Coef: [[-3.12343671 -2.97550723]\n",
      " [ 0.62100299 -0.13665518]\n",
      " [ 2.50243372  3.11216241]]\n",
      "Model intercept: [ 2.47751014  0.3955824  -2.87309254]\n"
     ]
    }
   ],
   "source": [
    "x_train, x_test, y_train, y_test = train_test_split(X, y, test_size=0.2, shuffle=True, random_state=42)\n",
    "multinomial_model = LogisticRegression(multi_class='multinomial')\n",
    "multinomial_model.fit(x_train, y_train)\n",
    "a = multinomial_model.coef_\n",
    "b = multinomial_model.intercept_\n",
    "\n",
    "print(\"trained model parameters are:\")\n",
    "print(f\"Model Coef: {a}\")\n",
    "print(f\"Model intercept: {b}\")"
   ]
  },
  {
   "cell_type": "code",
   "execution_count": 20,
   "metadata": {},
   "outputs": [
    {
     "name": "stdout",
     "output_type": "stream",
     "text": [
      "Accuracy for training data (R^2):  0.95 \n",
      "\n",
      "Confusion matrix for training data:\n",
      " [[40  0  0]\n",
      " [ 0 38  3]\n",
      " [ 0  3 36]] \n",
      "\n",
      "Accuracy for test data (R^2):  1.0 \n",
      "\n",
      "Confusion matrix for test data:\n",
      " [[10  0  0]\n",
      " [ 0  9  0]\n",
      " [ 0  0 11]] \n",
      "\n"
     ]
    }
   ],
   "source": [
    "ypred_train        = multinomial_model.predict(x_train)\n",
    "accuracy_train     = accuracy_score(y_train, ypred_train)\n",
    "conf_matrix_train  = confusion_matrix(y_train, ypred_train)\n",
    "print('Accuracy for training data (R^2): ', accuracy_train, '\\n')\n",
    "print('Confusion matrix for training data:\\n', conf_matrix_train, '\\n')\n",
    "\n",
    "ypred_test         = multinomial_model.predict(x_test)\n",
    "accuracy_test      = accuracy_score(y_test,ypred_test)\n",
    "conf_matrix_test   = confusion_matrix(y_test, ypred_test)\n",
    "print('Accuracy for test data (R^2): ', accuracy_test, '\\n')\n",
    "print('Confusion matrix for test data:\\n', conf_matrix_test, '\\n')"
   ]
  },
  {
   "cell_type": "code",
   "execution_count": 21,
   "metadata": {},
   "outputs": [
    {
     "name": "stdout",
     "output_type": "stream",
     "text": [
      "Printing first few:\n",
      "features\t\tActual class\tPredicted class\t\tPredicted probabilities\n",
      "[0.         0.04166667]\tsetosa\t\tsetosa\t\t\t[0.87224895 0.12241693 0.00533413]\n",
      "[0.08474576 0.125     ]\tsetosa\t\tsetosa\t\t\t[0.79329443 0.19372674 0.01297882]\n",
      "[0.57627119 0.54166667]\tversicolor\t\tversicolor\t\t\t[0.10747669 0.53962285 0.35290046]\n",
      "[0.10169492 0.04166667]\tsetosa\t\tsetosa\t\t\t[0.8222162  0.16887379 0.00891002]\n",
      "[0.05084746 0.04166667]\tsetosa\t\tsetosa\t\t\t[0.84895305 0.14413594 0.00691101]\n",
      "[0.6779661 0.75     ]\tvirginica\t\tvirginica\t\t\t[0.02860672 0.37972831 0.59166497]\n",
      "[0.59322034 0.58333333]\tversicolor\t\tversicolor\t\t\t[0.08564242 0.51570135 0.39865623]\n",
      "[0.08474576 0.04166667]\tsetosa\t\tsetosa\t\t\t[0.83152506 0.16028358 0.00819136]\n",
      "[0.06779661 0.04166667]\tsetosa\t\tsetosa\t\t\t[0.84043479 0.15203906 0.00752616]\n",
      "[0.08474576 0.        ]\tsetosa\t\tsetosa\t\t\t[0.84824918 0.14526681 0.00648402]\n"
     ]
    }
   ],
   "source": [
    "y_predict       = multinomial_model.predict(x_train)\n",
    "y_predict_prob  = multinomial_model.predict_proba(x_train)\n",
    "\n",
    "print(f\"Printing first few:\")\n",
    "print(f\"features\\t\\tActual class\\tPredicted class\\t\\tPredicted probabilities\")\n",
    "for n in range(0, 10):\n",
    "    output = f\"{x_train[n]}\\t{y_train[n]}\\t\\t{y_predict[n]}\\t\\t\\t{y_predict_prob[n]}\"\n",
    "    print(output)"
   ]
  },
  {
   "cell_type": "markdown",
   "metadata": {},
   "source": [
    "#### (c) Compare and Discuss your results."
   ]
  },
  {
   "cell_type": "markdown",
   "metadata": {},
   "source": [
    "**One-versus-many (OvR)** is an approach for multi-class regression where, for example, the classification would look like: target and everything else is bundled as not-target\n",
    "\n",
    "e.g. if we have banana, apple, and orange\n",
    "\n",
    "we will have: \n",
    "(1) banana vs not banana\n",
    "(2) apple vs not apple\n",
    "(3) orange vs not orange"
   ]
  },
  {
   "cell_type": "markdown",
   "metadata": {},
   "source": [
    "**Softmax (multinomial)** is like dividing a pie into n number of categories. Calculating probability looks like dividing the expression of certain features by the expressions of all features."
   ]
  },
  {
   "cell_type": "markdown",
   "metadata": {},
   "source": [
    "In my evalution, it seems that Softmax outperforms OvR by 5% on the training data and 10% on the testing data. Which makes sense because Softmax is better suited, in my understanding, to handle multi-class categroization."
   ]
  }
 ],
 "metadata": {
  "kernelspec": {
   "display_name": "Python 3",
   "language": "python",
   "name": "python3"
  },
  "language_info": {
   "codemirror_mode": {
    "name": "ipython",
    "version": 3
   },
   "file_extension": ".py",
   "mimetype": "text/x-python",
   "name": "python",
   "nbconvert_exporter": "python",
   "pygments_lexer": "ipython3",
   "version": "3.8.3"
  },
  "orig_nbformat": 4
 },
 "nbformat": 4,
 "nbformat_minor": 2
}
