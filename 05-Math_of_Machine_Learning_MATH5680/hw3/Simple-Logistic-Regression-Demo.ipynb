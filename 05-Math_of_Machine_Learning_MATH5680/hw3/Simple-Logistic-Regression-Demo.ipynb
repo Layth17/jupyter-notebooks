{
 "cells": [
  {
   "cell_type": "markdown",
   "metadata": {},
   "source": [
    "# Logistic Regression\n",
    "\n"
   ]
  },
  {
   "cell_type": "markdown",
   "metadata": {},
   "source": [
    "#### 1. First, let's import all necessary libraries. "
   ]
  },
  {
   "cell_type": "raw",
   "metadata": {},
   "source": [
    "import numpy as np\n",
    "import matplotlib.pyplot as plt\n",
    "import pandas as pd\n",
    "from   sklearn.linear_model import LogisticRegression\n",
    "from   sklearn.preprocessing import MinMaxScaler\n",
    "from   sklearn.model_selection import train_test_split\n",
    "from   sklearn.metrics import confusion_matrix, accuracy_score"
   ]
  },
  {
   "cell_type": "markdown",
   "metadata": {},
   "source": [
    "#### 2.  Import and prepare data for our study."
   ]
  },
  {
   "cell_type": "raw",
   "metadata": {},
   "source": [
    "data = pd.read_csv(\"Data/diagnosis.csv\")\n",
    "data.head(5)"
   ]
  },
  {
   "cell_type": "code",
   "execution_count": null,
   "metadata": {},
   "outputs": [],
   "source": [
    "data[\"diagnosis\"]  = data[\"diagnosis\"].apply(lambda x: 1 if x == 'M' else 0)     \n",
    "data.head(5)"
   ]
  },
  {
   "cell_type": "code",
   "execution_count": null,
   "metadata": {},
   "outputs": [],
   "source": [
    "feature  = data[\"radius_mean\"].values.reshape(-1,1)\n",
    "\n",
    "# Scale the feature\n",
    "scaler = MinMaxScaler().fit(feature)\n",
    "x = scaler.transform(feature)\n",
    "#print(scaler.data_max_)\n",
    "#print(scaler.data_min_)\n",
    "\n",
    "y  = data[\"diagnosis\"]"
   ]
  },
  {
   "cell_type": "markdown",
   "metadata": {},
   "source": [
    "Here is how our studied data looklike. "
   ]
  },
  {
   "cell_type": "code",
   "execution_count": null,
   "metadata": {},
   "outputs": [],
   "source": [
    "plt.figure(figsize=(5, 4))\n",
    "plt.scatter(x, y, c='red')\n",
    "plt.xlabel(\"Radius mean\")\n",
    "plt.ylabel(\"Probability of cancerous tumor\")\n",
    "plt.show()"
   ]
  },
  {
   "cell_type": "markdown",
   "metadata": {},
   "source": [
    "#### 3. Now we are ready to train our logistic model. "
   ]
  },
  {
   "cell_type": "code",
   "execution_count": null,
   "metadata": {},
   "outputs": [],
   "source": [
    "x_train, x_test, y_train, y_test = train_test_split(x, y, test_size=0.2)"
   ]
  },
  {
   "cell_type": "code",
   "execution_count": null,
   "metadata": {},
   "outputs": [],
   "source": [
    "model = LogisticRegression()\n",
    "model.fit(x_train, y_train)\n",
    "a = model.coef_\n",
    "b = model.intercept_\n",
    "print(\"trained model parameters are:\")\n",
    "print(a, b)"
   ]
  },
  {
   "cell_type": "markdown",
   "metadata": {},
   "source": [
    "Let's take a close look of the trained results. "
   ]
  },
  {
   "cell_type": "code",
   "execution_count": null,
   "metadata": {},
   "outputs": [],
   "source": [
    "y_predict       = model.predict(x_train)\n",
    "y_predict_prob  = model.predict_proba(x_train)\n",
    "\n",
    "print('Actual class    ', 'Predicted class     ',  'Predicted probabilities')\n",
    "ytrain = y_train.values\n",
    "for n in range(0, len(y)):\n",
    "    print(ytrain[n], '              ', y_predict[n], '                  ', y_predict_prob[n])"
   ]
  },
  {
   "cell_type": "markdown",
   "metadata": {},
   "source": [
    "#### 4. Model evaluation"
   ]
  },
  {
   "cell_type": "code",
   "execution_count": null,
   "metadata": {},
   "outputs": [],
   "source": [
    "ypred_train        = model.predict(x_train)\n",
    "accuracy_train     = accuracy_score(ypred_train, y_train)\n",
    "conf_matrix_train  = confusion_matrix(ypred_train, y_train)\n",
    "print('Accuracy for training data: ', accuracy_train, '\\n')\n",
    "print('Confusion matrix for training data:\\n', conf_matrix_train, '\\n')\n",
    "\n",
    "ypred_test         = model.predict(x_test)\n",
    "accuracy_test      = accuracy_score(y_test,ypred_test)\n",
    "conf_matrix_test   = confusion_matrix(y_test, ypred_test)\n",
    "print('Accuracy for test data: ', accuracy_test, '\\n')\n",
    "print('Confusion matrix for test data:\\n', conf_matrix_test, '\\n')"
   ]
  },
  {
   "cell_type": "markdown",
   "metadata": {},
   "source": [
    "#### 5. New prediction?"
   ]
  },
  {
   "cell_type": "code",
   "execution_count": null,
   "metadata": {},
   "outputs": [],
   "source": [
    "xnew        = np.array([12, 13, 14, 15, 16, 17])\n",
    "xnew        = xnew.reshape(-1, 1)\n",
    "xnew_scaled = scaler.transform(xnew)\n",
    "pred_class  = model.predict(xnew_scaled)\n",
    "pred_prob   = model.predict_proba(xnew_scaled)\n",
    "for i in range(0, len(xnew_scaled)):\n",
    "    print(pred_class[i], pred_prob[i])"
   ]
  },
  {
   "cell_type": "markdown",
   "metadata": {},
   "source": [
    "#### More discussion"
   ]
  },
  {
   "cell_type": "code",
   "execution_count": null,
   "metadata": {},
   "outputs": [],
   "source": [
    "model = LogisticRegression(penalty='none', tol = 0.00001)\n",
    "model.fit(x_train, y_train)\n",
    "a = model.coef_\n",
    "b = model.intercept_\n",
    "print(a, b)"
   ]
  }
 ],
 "metadata": {
  "kernelspec": {
   "display_name": "Python 3 (ipykernel)",
   "language": "python",
   "name": "python3"
  },
  "language_info": {
   "codemirror_mode": {
    "name": "ipython",
    "version": 3
   },
   "file_extension": ".py",
   "mimetype": "text/x-python",
   "name": "python",
   "nbconvert_exporter": "python",
   "pygments_lexer": "ipython3",
   "version": "3.9.7"
  }
 },
 "nbformat": 4,
 "nbformat_minor": 4
}
